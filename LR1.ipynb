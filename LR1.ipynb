{
 "cells": [
  {
   "cell_type": "markdown",
   "metadata": {},
   "source": [
    "# LR(1) elemzö\n",
    "\n",
    "_Sipos István_  \n",
    "_2020.04.20_"
   ]
  },
  {
   "cell_type": "code",
   "execution_count": 1,
   "metadata": {},
   "outputs": [],
   "source": [
    "from IPython.display import display, Math, Markdown, HTML\n",
    "from collections import deque\n",
    "import string\n",
    "import re\n",
    "import pandas as pd\n",
    "import numpy as np\n",
    "import string"
   ]
  },
  {
   "cell_type": "markdown",
   "metadata": {},
   "source": [
    "### Segédfüggvények LaTeX listák és halmazok kiíratásához"
   ]
  },
  {
   "cell_type": "code",
   "execution_count": 2,
   "metadata": {},
   "outputs": [],
   "source": [
    "def iterable_to_latex(iterable, sep = \"\", pref = \"\", post = \"\"):\n",
    "    return pref + \" \" + sep.join(element.latex() + \" \" for element in iterable) + \" \" + post + \" \"\n",
    "\n",
    "def set_to_latex(obj):\n",
    "    if len(obj) == 0:\n",
    "        return  r\"\\emptyset\"\n",
    "    return iterable_to_latex(obj, \", \", r\"\\{\", r\"\\}\")\n",
    "\n",
    "def list_to_latex(obj):\n",
    "    if len(obj) == 0:\n",
    "        return  r\"\\lambda\"\n",
    "    return iterable_to_latex(obj, \", \", r\"[\", r\"]\")\n",
    "\n",
    "def queue_to_latex(obj):\n",
    "    if len(obj) == 0:\n",
    "        return  r\"\\lambda\"\n",
    "    return iterable_to_latex(obj, \"\", r\"\", r\"\")\n",
    "\n",
    "def tex_escape(text):\n",
    "    conv = {\n",
    "        '&': r'\\&',\n",
    "        '%': r'\\%',\n",
    "        '$': r'\\$',\n",
    "        '#': r'\\#',\n",
    "        '_': r'\\_',\n",
    "        '{': r'\\{',\n",
    "        '}': r'\\}',\n",
    "#        '~': r'\\textasciitilde{}',\n",
    "        '^': r'\\^{}',\n",
    "#        '\\\\': r'\\textbackslash{}',\n",
    "#        '<': r'\\textless{}',\n",
    "#        '>': r'\\textgreater{}',\n",
    "    }\n",
    "    regex = re.compile('|'.join(re.escape(str(key)) for key in sorted(conv.keys(), key = lambda item: - len(item))))\n",
    "    return regex.sub(lambda match: conv[match.group()], text)\n",
    "\n",
    "def load_bnf_grammar():\n",
    "    states = pd.read_csv('simple_bnf_grammar.csv', index_col=0)\n",
    "    \n",
    "    for d in string.digits:\n",
    "        states[d] = states['digit']\n",
    "\n",
    "    for l in string.ascii_lowercase + string.ascii_uppercase:\n",
    "        states[l] = states['letter']\n",
    "\n",
    "    states.drop(columns=['digit', 'letter'], inplace=True)\n",
    "    states.rename(columns={'space': ' ', 'single_quote': \"'\", 'double_quote': '\"'}, inplace=True)\n",
    "\n",
    "    states[['store', 'read', 'back']] = states[['store', 'read', 'back']] == 'Yes'\n",
    "    states[['symbol']] = states[['symbol']].replace(np.nan, '', regex=True)\n",
    "\n",
    "    return states\n",
    "\n",
    "LOGGING_ENABLED = False\n",
    "\n",
    "def log(*args, **argv):\n",
    "    if LOGGING_ENABLED:\n",
    "        print(*args, **argv)\n",
    "\n",
    "λ = ()\n",
    "dot = '.'"
   ]
  },
  {
   "cell_type": "markdown",
   "metadata": {},
   "source": [
    "## Egyszerü szkenner implementáció\n",
    "\n",
    "Ezt fogom használni az input nyelvtan feldolgozására (egy leegyszerüsített Backus-Naur Form)"
   ]
  },
  {
   "cell_type": "code",
   "execution_count": 3,
   "metadata": {},
   "outputs": [],
   "source": [
    "\n",
    "class Scanner():\n",
    "    def __init__(self, state_transfer_table):\n",
    "        self.state_transfer_table = state_transfer_table\n",
    "\n",
    "    def get_state_vector(self, state_id):\n",
    "        return self.state_transfer_table.loc[state_id]\n",
    "\n",
    "    def tokenize(self, program):\n",
    "        state_id = 0\n",
    "        index = 0\n",
    "        current_token = []\n",
    "        tokens = []\n",
    "\n",
    "        while True:\n",
    "            char = program[index]\n",
    "            if char in self.state_transfer_table.columns:\n",
    "                state_id = self.get_state_vector(state_id)[char]\n",
    "            else:\n",
    "                state_id = self.get_state_vector(state_id)['other']\n",
    "\n",
    "            if len(program) < index:\n",
    "                raise IndexError()\n",
    "                \n",
    "            if self.get_state_vector(state_id)['name'] == 'error':\n",
    "                raise ValueError(\"'\" + program[index:] + \"'\")\n",
    "            elif self.get_state_vector(state_id)['name'] == 'stop':\n",
    "                return tokens\n",
    "      \n",
    "            if self.get_state_vector(state_id)['read']:\n",
    "                current_token.append(program[index])\n",
    "            \n",
    "            if self.get_state_vector(state_id)['store']:\n",
    "                tokens.append((''.join(current_token), self.get_state_vector(state_id)['symbol']))\n",
    "                current_token = []\n",
    "\n",
    "            if not self.get_state_vector(state_id)['back']:\n",
    "                index += 1\n"
   ]
  },
  {
   "cell_type": "markdown",
   "metadata": {},
   "source": [
    "### Általános típusok (Szimbólum, terminális, nem terminiális, szabály és nyelvtan)"
   ]
  },
  {
   "cell_type": "code",
   "execution_count": 4,
   "metadata": {},
   "outputs": [],
   "source": [
    "class LatexDisplayable():\n",
    "    def _repr_latex_(self):\n",
    "        return \"$ \" + self.latex() + \" $\"\n",
    "\n",
    "class Symbol(LatexDisplayable):\n",
    "    def __init__(self, text, index = None):\n",
    "        self.text = text\n",
    "        self.index = index\n",
    "        \n",
    "    def __eq__(self, other):\n",
    "        return type(self) == type(other) and self.text == other.text and self.index == other.index\n",
    "    \n",
    "    def __hash__(self):\n",
    "        return hash(self.latex())\n",
    "    \n",
    "    def latex(self):\n",
    "        if self.index == None:\n",
    "            return tex_escape(str(self.text))\n",
    "        return r'{}_{}'.format(tex_escape(str(self.text)), self.index)\n",
    "        \n",
    "    def __repr__(self):\n",
    "        return self.latex()\n",
    "    \n",
    "class NonTerminal(Symbol):\n",
    "    def latex(self):\n",
    "        return r\"<\" + super().latex() + r\">\"\n",
    "        \n",
    "class Terminal(Symbol):\n",
    "    def latex(self):\n",
    "        return '\"' + super().latex() + '\"'\n",
    "    \n",
    "class Production(LatexDisplayable):\n",
    "    def __init__(self, left, right):\n",
    "        self.left = left\n",
    "        self.right = right\n",
    "        \n",
    "    def latex(self):\n",
    "        return r\"{} \\rightarrow {}\".format(self.left.latex(), \" \".join(element.latex() for element in self.right))\n",
    "    \n",
    "    def __eq__(self, other):\n",
    "        return isinstance(other, Production) \\\n",
    "            and self.left == other.left \\\n",
    "            and self.right == other.right\n",
    "    \n",
    "    def __hash__(self):\n",
    "        return hash(self.latex())\n",
    "\n",
    "class Grammar(LatexDisplayable):\n",
    "    def __init__(self, non_terminals, terminals, start, productions):\n",
    "        self.non_terminals = non_terminals\n",
    "        self.terminals = terminals\n",
    "        self.start = start\n",
    "        self.productions = productions\n",
    "        \n",
    "    def latex(self):\n",
    "        return r\"\\langle \" +\\\n",
    "           set_to_latex(self.non_terminals) +\\\n",
    "            \" , \" + set_to_latex(self.terminals) +\\\n",
    "            \" , \" + self.start.latex() +\\\n",
    "            \" , \" + set_to_latex(self.productions) +\\\n",
    "            r\" \\rangle\""
   ]
  },
  {
   "cell_type": "markdown",
   "metadata": {},
   "source": [
    "## Segédfüggvények a szabályok beolvasásához"
   ]
  },
  {
   "cell_type": "code",
   "execution_count": 5,
   "metadata": {},
   "outputs": [],
   "source": [
    "def add_symbol_to_grammar(symbol, grammar):\n",
    "    if isinstance(symbol, NonTerminal):\n",
    "        grammar.non_terminals.add(symbol)\n",
    "    else:\n",
    "        grammar.terminals.add(symbol)\n",
    "\n",
    "\n",
    "def parse_productions(grammar, scanner, lines):\n",
    "    for line in lines:\n",
    "        tokens = scanner.tokenize(line + ';')\n",
    "        assert tokens[1] == ('::=', 'expand')\n",
    "        assert tokens[0][1] == 'term'\n",
    "        \n",
    "        \n",
    "        non_terminal = NonTerminal(tokens[0][0])\n",
    "        add_symbol_to_grammar(non_terminal, grammar)\n",
    "        \n",
    "        right = []\n",
    "        for (token, symbol_type) in tokens[2:]:\n",
    "            if symbol_type == 'separator':\n",
    "                grammar.productions.append(Production(non_terminal, tuple(right)))\n",
    "                right = []\n",
    "            else:\n",
    "                symbol = NonTerminal(token) if symbol_type == \"term\" else Terminal(token)\n",
    "                add_symbol_to_grammar(symbol, grammar)\n",
    "                right.append(symbol)\n",
    "                \n",
    "        grammar.productions.append(Production(non_terminal, tuple(right)))\n",
    "                \n",
    "def parse_grammar(text, scanner):\n",
    "    grammar = Grammar(set(), set(), None, deque())\n",
    "    \n",
    "    lines = [line.strip() for line in text.splitlines()]\n",
    "    # üres sorok és kommentek elhagyása\n",
    "    lines = [line for line in lines  if len(line)>0 and line[0] != \";\"]\n",
    "\n",
    "    # A definíció elsö sora tartalmazza a startszimbólumot\n",
    "    start = NonTerminal(scanner.tokenize(lines[0]+';')[0][0])\n",
    "    grammar.start = start\n",
    "    grammar.non_terminals.add(start)\n",
    "\n",
    "    parse_productions(grammar, scanner, lines[1:])\n",
    "        \n",
    "    return grammar\n",
    "\n",
    "eoi = Terminal('$')"
   ]
  },
  {
   "cell_type": "markdown",
   "metadata": {},
   "source": [
    "## Egy nyelv kiterjesztése"
   ]
  },
  {
   "cell_type": "code",
   "execution_count": 6,
   "metadata": {},
   "outputs": [],
   "source": [
    "def augment_grammar(grammar):\n",
    "    \n",
    "    s = grammar.start\n",
    "    s_tick = NonTerminal(s.text + \"`\", s.index)\n",
    "\n",
    "    assert eoi not in grammar.terminals\n",
    "    assert s_tick not in grammar.non_terminals\n",
    "\n",
    "    augmented_production = Production(s_tick, [s])\n",
    "    \n",
    "    return Grammar(grammar.non_terminals | {s_tick}, grammar.terminals | {eoi}, s_tick, deque([augmented_production, *grammar.productions]))"
   ]
  },
  {
   "cell_type": "markdown",
   "metadata": {},
   "source": [
    "## A müveleteket reprezentáló osztályok"
   ]
  },
  {
   "cell_type": "code",
   "execution_count": 7,
   "metadata": {},
   "outputs": [],
   "source": [
    "class Action():\n",
    "    def __init__(self, token, params = None):\n",
    "        self.token = token\n",
    "        self.params = params\n",
    "\n",
    "    def __eq__(self, other):\n",
    "        return issubclass(type(other), Action) \\\n",
    "            and self.token == other.token \\\n",
    "            and self.params == other.params\n",
    "    \n",
    "    def __hash__(self):\n",
    "        return hash(self.token)\n",
    "    \n",
    "    def __str__(self):\n",
    "        if self.params == None:\n",
    "            return self.token\n",
    "        else:\n",
    "            return f\"{self.token}({self.params})\"\n",
    "\n",
    "class Shift(Action):\n",
    "    def __init__(self, to):\n",
    "        super().__init__('Shift', to)\n",
    "        self.to = to\n",
    "\n",
    "class Reduce(Action):\n",
    "    def __init__(self, to):\n",
    "        super().__init__('Reduce', to)\n",
    "        self.to = to\n",
    "\n",
    "class Goto(Action):\n",
    "    def __init__(self, to):\n",
    "        super().__init__('Goto', to)\n",
    "        self.to = to\n",
    "\n",
    "class Accept(Action):\n",
    "    def __init__(self):\n",
    "        super().__init__('Accept')\n",
    "\n",
    "class Error(Action):\n",
    "    def __init__(self):\n",
    "        super().__init__('Error')\n"
   ]
  },
  {
   "cell_type": "markdown",
   "metadata": {},
   "source": [
    "## LR(1) elemek"
   ]
  },
  {
   "cell_type": "code",
   "execution_count": 8,
   "metadata": {},
   "outputs": [],
   "source": [
    "class Item(LatexDisplayable):\n",
    "    def __init__(self, core, lookahead, dotindex=0):\n",
    "        self.core = core\n",
    "        self.lookahead = lookahead\n",
    "        self.dotindex = dotindex\n",
    "        \n",
    "    def __eq__(self, other):\n",
    "        return isinstance(other, Item) \\\n",
    "            and self.core == other.core \\\n",
    "            and self.lookahead == other.lookahead \\\n",
    "            and self.dotindex == other.dotindex\n",
    "    \n",
    "    def __hash__(self):\n",
    "        return hash(self.latex())\n",
    "    \n",
    "    def latex(self):\n",
    "        return \"[ \" +\\\n",
    "        self.core.left.latex() + r\" \\rightarrow \" +\\\n",
    "        \" \".join((r\"\\bullet \" + element.latex() if i == self.dotindex else element.latex()) for (i, element) in enumerate(self.core.right)) +\\\n",
    "        (r\" \\bullet\" if self.dotindex >= len(self.core.right) else \"\") +\\\n",
    "        \" , \" + (r\"\\lambda\" if self.lookahead == λ else self.lookahead.latex()) +\\\n",
    "        \" ]\"\n",
    "\n",
    "    # [A -> α.Bβ, a].next() => [A -> αB.β, a]\n",
    "    # [A -> α., a].next() => IndexError\n",
    "    def next(self):\n",
    "        if self.in_tail_position:\n",
    "            raise IndexError()\n",
    "            \n",
    "        return Item(self.core, self.lookahead, self.dotindex + 1)\n",
    "\n",
    "    # [A -> α.Bβ, a]\n",
    "    @property\n",
    "    def α(self):\n",
    "        return tuple(self.core.right[:self.dotindex])\n",
    "    \n",
    "    @property\n",
    "    def B(self):\n",
    "        return self.core.right[self.dotindex]\n",
    "    \n",
    "    @property\n",
    "    def β(self):\n",
    "        return tuple(self.core.right[self.dotindex+1:])\n",
    "    \n",
    "    @property\n",
    "    def in_tail_position(self):\n",
    "        return len(self.core.right) <= self.dotindex\n",
    "   "
   ]
  },
  {
   "cell_type": "markdown",
   "metadata": {},
   "source": [
    "## Az elemzö táblázat reprezentációja"
   ]
  },
  {
   "cell_type": "code",
   "execution_count": 9,
   "metadata": {},
   "outputs": [],
   "source": [
    "class SubTable():\n",
    "    def __init__(self, rows, symbols):\n",
    "        self.rows = []\n",
    "        self.symbols = symbols\n",
    "        \n",
    "        for i in range(rows):\n",
    "            row = {}\n",
    "            for symbol in symbols:\n",
    "                row[symbol] = None\n",
    "                \n",
    "            self.rows.append(row)\n",
    "        \n",
    "    def __getitem__(self, pos):\n",
    "        row, symbol = pos\n",
    "        value = self.rows[row][symbol]\n",
    "        return value\n",
    "    \n",
    "    def __setitem__(self, pos, value):\n",
    "        row, symbol = pos\n",
    "        \n",
    "        self.rows[row][symbol] = value\n",
    "\n",
    "class LR1ParsingTable():\n",
    "    def __init__(self, rows, terminals, non_terminals):\n",
    "        self.rows = rows\n",
    "        self.terminals = terminals\n",
    "        self.non_terminals = non_terminals\n",
    "        self.action = SubTable(rows, terminals)\n",
    "        self.goto = SubTable(rows, non_terminals)\n",
    "        \n",
    "    def _repr_html_(self):\n",
    "        return f\"\"\"<table>\n",
    "            <thead>\n",
    "                <tr>\n",
    "                    <th>&nbsp;</th>\n",
    "                    <th colspan=\"{len(self.terminals)}\">Action</th>\n",
    "                    <th colspan=\"{len(self.non_terminals)}\">GOTO</th>\n",
    "                </tr>\n",
    "                <tr>\n",
    "                    <th>State</th>\n",
    "                    \"\"\" + \"\".join(f\"<th>{x.text}</th>\" for x in self.terminals) + \"\"\"\n",
    "                    \"\"\" + \"\".join(f\"<th>{x.text}</th>\" for x in self.non_terminals) + \"\"\"\n",
    "                </tr>\n",
    "            </thead>\n",
    "            <tbody>\n",
    "            \"\"\" + \"\".join((\"<tr>\"  + f\"<td>{row}</td>\" + \\\n",
    "                           \"\".join((\"<td>\" + (str(self.action[row, x]) if self.action[row, x] != None else \"\") + \"</td>\") for x in self.terminals) + \\\n",
    "                           \"\".join((\"<td>\" + (str(self.goto[row, x]) if self.goto[row, x] != None else \"\") + \"</td>\") for x in self.non_terminals) + \\\n",
    "                           \"</tr>\") for row in range(self.rows)) + \"\"\"\n",
    "            </tbody>\n",
    "        </table>\"\"\""
   ]
  },
  {
   "cell_type": "markdown",
   "metadata": {},
   "source": [
    "# Az LR(1) feldolgozó osztály"
   ]
  },
  {
   "cell_type": "code",
   "execution_count": 10,
   "metadata": {},
   "outputs": [],
   "source": [
    " \n",
    "class LR1Parser():\n",
    "    def __init__(self, grammar):\n",
    "        self.grammar = augment_grammar(grammar)\n",
    "\n",
    "    def first(self, symbol):\n",
    "        if isinstance(symbol, Terminal):\n",
    "            return {symbol}\n",
    "        \n",
    "        result = set()\n",
    "        \n",
    "        for production in self.grammar.productions:\n",
    "            if production.left != symbol:\n",
    "                continue\n",
    "            \n",
    "            if production.right == λ:\n",
    "                result |= {λ}\n",
    "                continue\n",
    "            \n",
    "            if production.right[0] == symbol:\n",
    "                continue\n",
    "                \n",
    "            for i, Y in enumerate(production.right):\n",
    "                t = self.first(Y)\n",
    "                result |= (t - {λ})\n",
    "                \n",
    "                if λ not in t:\n",
    "                    break\n",
    "                \n",
    "                if i == len(production.right)-1: \n",
    "                    result |= {λ}\n",
    "        \n",
    "        return result\n",
    "            \n",
    "    def closure(self, items):\n",
    "        add = True\n",
    "        while add:\n",
    "            add = False\n",
    "            for item in items.copy():\n",
    "                for production in self.grammar.productions:\n",
    "                    if item.in_tail_position:\n",
    "                        continue\n",
    "                    if production.left != item.B:\n",
    "                        continue\n",
    "\n",
    "                    for b in self.first((item.β + (item.lookahead, ))[0]):\n",
    "                        if b == λ: continue\n",
    "\n",
    "                        new_item = Item(production, b)\n",
    "                        if new_item not in items:\n",
    "                            items |= {new_item}\n",
    "                            add = True\n",
    "            \n",
    "        return items\n",
    "    \n",
    "    def read(self, I, X):\n",
    "        J = set()\n",
    "\n",
    "        for item in I:\n",
    "            if item.in_tail_position or item.B != X:\n",
    "                continue\n",
    "\n",
    "            J |= self.closure({item.next()})\n",
    "        \n",
    "        # A jegyzet alapján a halmazt tovább kell bövíteni, de ez\n",
    "        # hibás eredményt ad. A további bövítés nélkül viszont jól müködik\n",
    "        \n",
    "        #if J != I:\n",
    "        #    J |= self.read(J, X)\n",
    "\n",
    "        return J\n",
    "\n",
    "    @property\n",
    "    def canonical_production(self):\n",
    "        return self.grammar.productions[0]\n",
    "    \n",
    "    def I0(self):\n",
    "        # closure([S` -> .S, $])\n",
    "        return self.closure({Item(self.canonical_production, eoi)})\n",
    "    \n",
    "    def states(self):\n",
    "        \"\"\"\n",
    "        A kanonikus halmazok\n",
    "        \"\"\"\n",
    "        result = []\n",
    "        result.append(self.I0())\n",
    "        \n",
    "        while True:\n",
    "            add = False\n",
    "\n",
    "            new_states = []\n",
    "            for state in result:\n",
    "                for symbol in {item.B for item in state if not item.in_tail_position}:\n",
    "                    new_state = self.read(state, symbol)\n",
    "\n",
    "                    if len(new_state) == 0: continue\n",
    "                    \n",
    "                    if new_state not in (result + new_states):\n",
    "                        new_states.append(new_state)\n",
    "                        add = True\n",
    "\n",
    "            result.extend(new_states)\n",
    "            \n",
    "            if not add:\n",
    "                break\n",
    "                \n",
    "        return result\n",
    "    \n",
    "    def parsing_table(self):\n",
    "        states = self.states()\n",
    "        table = LR1ParsingTable(len(states), self.grammar.terminals, self.grammar.non_terminals - {self.grammar.start})\n",
    "        \n",
    "        for i,state in enumerate(states):\n",
    "            for item in state:\n",
    "                # Action\n",
    "                if not item.in_tail_position:\n",
    "                    shift = self.read(state, item.B)\n",
    "                    if shift in states:\n",
    "                        table.action[i, item.B] = Shift(states.index(shift))\n",
    "                else:\n",
    "                    if item.core.left != self.grammar.start:\n",
    "                        table.action[i, item.lookahead] = Reduce(self.grammar.productions.index(item.core))\n",
    "                    else:\n",
    "                        table.action[i, item.lookahead] = Accept()\n",
    "                        \n",
    "                #GOTO\n",
    "                goto = self.read(state, item.core.left)\n",
    "                if goto in states:\n",
    "                    table.goto[i, item.core.left] = Goto(states.index(goto))\n",
    "                    \n",
    "        return table\n",
    "    \n",
    "    def parse(self, input_word):\n",
    "        word = deque([*input_word, eoi])\n",
    "        table = self.parsing_table()\n",
    "        stack = deque([eoi, 0])\n",
    "        \n",
    "        derivative = []\n",
    "        \n",
    "        log(\"A feldolgozás lépései:\")\n",
    "        \n",
    "        while True:\n",
    "            log(stack, word)\n",
    "            action = table.action[stack[-1], word[0]]\n",
    "            log(action)\n",
    "            \n",
    "            if action == Accept():\n",
    "                return True, derivative\n",
    "            \n",
    "            elif isinstance(action, Shift):\n",
    "                stack.append(word.popleft())\n",
    "                stack.append(action.to)\n",
    "                \n",
    "            elif isinstance(action, Reduce):\n",
    "                production = self.grammar.productions[action.to]\n",
    "                derivative.append(production)\n",
    "                for i in range(len(production.right)*2): stack.pop()\n",
    "                \n",
    "                goto = stack[-1]\n",
    "                stack.append(production.left)\n",
    "                stack.append(table.goto[goto, production.left].to)\n",
    "            \n",
    "            else:\n",
    "                return False, (stack, word)\n",
    "                "
   ]
  },
  {
   "cell_type": "markdown",
   "metadata": {},
   "source": [
    "## Egy feldolgozást elvégzö segédfüggvény"
   ]
  },
  {
   "cell_type": "code",
   "execution_count": 11,
   "metadata": {},
   "outputs": [],
   "source": [
    "def run_parse(lang_spec, word_spec, title = \"Példa\"):\n",
    "    display(Markdown(\"# \" + title))\n",
    "    \n",
    "    states = load_bnf_grammar()\n",
    "    scanner = Scanner(states)\n",
    "    G = parse_grammar(lang_spec, scanner)\n",
    "    \n",
    "    display(Markdown(\"## A bemeneti nyelv\"))\n",
    "    display(Math(G.latex()))\n",
    "    \n",
    "    lr1p = LR1Parser(G)\n",
    "\n",
    "    display(Markdown(\"## A nyelv kanonikus halmazai\"))\n",
    "    for i, state in enumerate(lr1p.states()):\n",
    "        print(i)\n",
    "        display(Math(set_to_latex(state)))\n",
    "\n",
    "    display(Markdown(\"## A feldolgozási tábla\"))\n",
    "    display(HTML(lr1p.parsing_table()._repr_html_()))\n",
    "\n",
    "    word = [Terminal(token) for token, symbol_type in scanner.tokenize(word_spec)]\n",
    "\n",
    "    display(Markdown(\"## A feldolgozás eredménye\"))\n",
    "    \n",
    "    parseable, derivative = lr1p.parse(word)\n",
    "\n",
    "    if parseable:\n",
    "        print(f\"A {word} szó jobboldali levezetése: \")\n",
    "        display(Math(list_to_latex(list(reversed(derivative)))))\n",
    "    else:\n",
    "        print(f\"A {word} szó nem levezethetö le!\")"
   ]
  },
  {
   "cell_type": "markdown",
   "metadata": {},
   "source": [
    "# Példák"
   ]
  },
  {
   "cell_type": "code",
   "execution_count": 12,
   "metadata": {},
   "outputs": [
    {
     "data": {
      "text/markdown": [
       "# A jegyzetbeli példa levezetése"
      ],
      "text/plain": [
       "<IPython.core.display.Markdown object>"
      ]
     },
     "metadata": {},
     "output_type": "display_data"
    },
    {
     "data": {
      "text/markdown": [
       "## A bemeneti nyelv"
      ],
      "text/plain": [
       "<IPython.core.display.Markdown object>"
      ]
     },
     "metadata": {},
     "output_type": "display_data"
    },
    {
     "data": {
      "text/latex": [
       "$\\displaystyle \\langle \\{ <A> , <S>  \\}  , \\{ \"b\" , \"a\"  \\}  , <S> , \\{ <S> \\rightarrow <A> <A> , <A> \\rightarrow \"a\" <A> , <A> \\rightarrow \"b\"  \\}  \\rangle$"
      ],
      "text/plain": [
       "<IPython.core.display.Math object>"
      ]
     },
     "metadata": {},
     "output_type": "display_data"
    },
    {
     "data": {
      "text/markdown": [
       "## A nyelv kanonikus halmazai"
      ],
      "text/plain": [
       "<IPython.core.display.Markdown object>"
      ]
     },
     "metadata": {},
     "output_type": "display_data"
    },
    {
     "name": "stdout",
     "output_type": "stream",
     "text": [
      "0\n"
     ]
    },
    {
     "data": {
      "text/latex": [
       "$\\displaystyle \\{ [ <A> \\rightarrow \\bullet \"a\" <A> , \"b\" ] , [ <S`> \\rightarrow \\bullet <S> , \"\\$\" ] , [ <A> \\rightarrow \\bullet \"b\" , \"a\" ] , [ <A> \\rightarrow \\bullet \"b\" , \"b\" ] , [ <S> \\rightarrow \\bullet <A> <A> , \"\\$\" ] , [ <A> \\rightarrow \\bullet \"a\" <A> , \"a\" ]  \\} $"
      ],
      "text/plain": [
       "<IPython.core.display.Math object>"
      ]
     },
     "metadata": {},
     "output_type": "display_data"
    },
    {
     "name": "stdout",
     "output_type": "stream",
     "text": [
      "1\n"
     ]
    },
    {
     "data": {
      "text/latex": [
       "$\\displaystyle \\{ [ <A> \\rightarrow \"b\" \\bullet , \"b\" ] , [ <A> \\rightarrow \"b\" \\bullet , \"a\" ]  \\} $"
      ],
      "text/plain": [
       "<IPython.core.display.Math object>"
      ]
     },
     "metadata": {},
     "output_type": "display_data"
    },
    {
     "name": "stdout",
     "output_type": "stream",
     "text": [
      "2\n"
     ]
    },
    {
     "data": {
      "text/latex": [
       "$\\displaystyle \\{ [ <A> \\rightarrow \\bullet \"a\" <A> , \"b\" ] , [ <A> \\rightarrow \"a\" \\bullet <A> , \"b\" ] , [ <A> \\rightarrow \\bullet \"b\" , \"b\" ] , [ <A> \\rightarrow \\bullet \"b\" , \"a\" ] , [ <A> \\rightarrow \"a\" \\bullet <A> , \"a\" ] , [ <A> \\rightarrow \\bullet \"a\" <A> , \"a\" ]  \\} $"
      ],
      "text/plain": [
       "<IPython.core.display.Math object>"
      ]
     },
     "metadata": {},
     "output_type": "display_data"
    },
    {
     "name": "stdout",
     "output_type": "stream",
     "text": [
      "3\n"
     ]
    },
    {
     "data": {
      "text/latex": [
       "$\\displaystyle \\{ [ <S> \\rightarrow <A> \\bullet <A> , \"\\$\" ] , [ <A> \\rightarrow \\bullet \"b\" , \"\\$\" ] , [ <A> \\rightarrow \\bullet \"a\" <A> , \"\\$\" ]  \\} $"
      ],
      "text/plain": [
       "<IPython.core.display.Math object>"
      ]
     },
     "metadata": {},
     "output_type": "display_data"
    },
    {
     "name": "stdout",
     "output_type": "stream",
     "text": [
      "4\n"
     ]
    },
    {
     "data": {
      "text/latex": [
       "$\\displaystyle \\{ [ <S`> \\rightarrow <S> \\bullet , \"\\$\" ]  \\} $"
      ],
      "text/plain": [
       "<IPython.core.display.Math object>"
      ]
     },
     "metadata": {},
     "output_type": "display_data"
    },
    {
     "name": "stdout",
     "output_type": "stream",
     "text": [
      "5\n"
     ]
    },
    {
     "data": {
      "text/latex": [
       "$\\displaystyle \\{ [ <A> \\rightarrow \"a\" <A> \\bullet , \"a\" ] , [ <A> \\rightarrow \"a\" <A> \\bullet , \"b\" ]  \\} $"
      ],
      "text/plain": [
       "<IPython.core.display.Math object>"
      ]
     },
     "metadata": {},
     "output_type": "display_data"
    },
    {
     "name": "stdout",
     "output_type": "stream",
     "text": [
      "6\n"
     ]
    },
    {
     "data": {
      "text/latex": [
       "$\\displaystyle \\{ [ <A> \\rightarrow \"b\" \\bullet , \"\\$\" ]  \\} $"
      ],
      "text/plain": [
       "<IPython.core.display.Math object>"
      ]
     },
     "metadata": {},
     "output_type": "display_data"
    },
    {
     "name": "stdout",
     "output_type": "stream",
     "text": [
      "7\n"
     ]
    },
    {
     "data": {
      "text/latex": [
       "$\\displaystyle \\{ [ <S> \\rightarrow <A> <A> \\bullet , \"\\$\" ]  \\} $"
      ],
      "text/plain": [
       "<IPython.core.display.Math object>"
      ]
     },
     "metadata": {},
     "output_type": "display_data"
    },
    {
     "name": "stdout",
     "output_type": "stream",
     "text": [
      "8\n"
     ]
    },
    {
     "data": {
      "text/latex": [
       "$\\displaystyle \\{ [ <A> \\rightarrow \"a\" \\bullet <A> , \"\\$\" ] , [ <A> \\rightarrow \\bullet \"a\" <A> , \"\\$\" ] , [ <A> \\rightarrow \\bullet \"b\" , \"\\$\" ]  \\} $"
      ],
      "text/plain": [
       "<IPython.core.display.Math object>"
      ]
     },
     "metadata": {},
     "output_type": "display_data"
    },
    {
     "name": "stdout",
     "output_type": "stream",
     "text": [
      "9\n"
     ]
    },
    {
     "data": {
      "text/latex": [
       "$\\displaystyle \\{ [ <A> \\rightarrow \"a\" <A> \\bullet , \"\\$\" ]  \\} $"
      ],
      "text/plain": [
       "<IPython.core.display.Math object>"
      ]
     },
     "metadata": {},
     "output_type": "display_data"
    },
    {
     "data": {
      "text/markdown": [
       "## A feldolgozási tábla"
      ],
      "text/plain": [
       "<IPython.core.display.Markdown object>"
      ]
     },
     "metadata": {},
     "output_type": "display_data"
    },
    {
     "data": {
      "text/html": [
       "<table>\n",
       "            <thead>\n",
       "                <tr>\n",
       "                    <th>&nbsp;</th>\n",
       "                    <th colspan=\"3\">Action</th>\n",
       "                    <th colspan=\"2\">GOTO</th>\n",
       "                </tr>\n",
       "                <tr>\n",
       "                    <th>State</th>\n",
       "                    <th>b</th><th>a</th><th>$</th>\n",
       "                    <th>A</th><th>S</th>\n",
       "                </tr>\n",
       "            </thead>\n",
       "            <tbody>\n",
       "            <tr><td>0</td><td>Shift(1)</td><td>Shift(2)</td><td></td><td>Goto(3)</td><td>Goto(4)</td></tr><tr><td>1</td><td>Reduce(3)</td><td>Reduce(3)</td><td></td><td></td><td></td></tr><tr><td>2</td><td>Shift(1)</td><td>Shift(2)</td><td></td><td>Goto(5)</td><td></td></tr><tr><td>3</td><td>Shift(6)</td><td>Shift(8)</td><td></td><td>Goto(7)</td><td></td></tr><tr><td>4</td><td></td><td></td><td>Accept</td><td></td><td></td></tr><tr><td>5</td><td>Reduce(2)</td><td>Reduce(2)</td><td></td><td></td><td></td></tr><tr><td>6</td><td></td><td></td><td>Reduce(3)</td><td></td><td></td></tr><tr><td>7</td><td></td><td></td><td>Reduce(1)</td><td></td><td></td></tr><tr><td>8</td><td>Shift(6)</td><td>Shift(8)</td><td></td><td>Goto(9)</td><td></td></tr><tr><td>9</td><td></td><td></td><td>Reduce(2)</td><td></td><td></td></tr>\n",
       "            </tbody>\n",
       "        </table>"
      ],
      "text/plain": [
       "<IPython.core.display.HTML object>"
      ]
     },
     "metadata": {},
     "output_type": "display_data"
    },
    {
     "data": {
      "text/markdown": [
       "## A feldolgozás eredménye"
      ],
      "text/plain": [
       "<IPython.core.display.Markdown object>"
      ]
     },
     "metadata": {},
     "output_type": "display_data"
    },
    {
     "name": "stdout",
     "output_type": "stream",
     "text": [
      "A [\"a\", \"b\", \"b\"] szó jobboldali levezetése: \n"
     ]
    },
    {
     "data": {
      "text/latex": [
       "$\\displaystyle [ <S> \\rightarrow <A> <A> , <A> \\rightarrow \"b\" , <A> \\rightarrow \"a\" <A> , <A> \\rightarrow \"b\"  ] $"
      ],
      "text/plain": [
       "<IPython.core.display.Math object>"
      ]
     },
     "metadata": {},
     "output_type": "display_data"
    }
   ],
   "source": [
    "lang_spec = \"\"\"\n",
    "<S>\n",
    "<S> ::= <A> <A>\n",
    "<A> ::= \"a\" <A> | \"b\"\n",
    "\"\"\"\n",
    "word_spec = '\"a\" \"b\" \"b\";'\n",
    "\n",
    "run_parse(lang_spec, word_spec, title=\"A jegyzetbeli példa levezetése\")"
   ]
  },
  {
   "cell_type": "code",
   "execution_count": null,
   "metadata": {},
   "outputs": [],
   "source": []
  }
 ],
 "metadata": {
  "kernelspec": {
   "display_name": "Python 3",
   "language": "python",
   "name": "python3"
  },
  "language_info": {
   "codemirror_mode": {
    "name": "ipython",
    "version": 3
   },
   "file_extension": ".py",
   "mimetype": "text/x-python",
   "name": "python",
   "nbconvert_exporter": "python",
   "pygments_lexer": "ipython3",
   "version": "3.7.6"
  }
 },
 "nbformat": 4,
 "nbformat_minor": 4
}
