{
 "cells": [
  {
   "cell_type": "markdown",
   "metadata": {},
   "source": [
    "# Tetszöleges környezetfüggetlen nyelvtan Chomsky normál formára hozása\n",
    "\n",
    "_Sipos István_  \n",
    "_2020.04.14_"
   ]
  },
  {
   "cell_type": "markdown",
   "metadata": {},
   "source": [
    "Az órai jegyzetben az algoritmus leírását nem találtam, ezért az itt leírtakat felhasználva készítettem el a programot: [link](https://gyires.inf.unideb.hu/KMITT/b24/ch07s03.html#CNF)"
   ]
  },
  {
   "cell_type": "code",
   "execution_count": 1,
   "metadata": {},
   "outputs": [],
   "source": [
    "from IPython.display import display, Math\n",
    "import string"
   ]
  },
  {
   "cell_type": "markdown",
   "metadata": {},
   "source": [
    "## Terminal, NonTerminal, Rule és Grammar osztályok"
   ]
  },
  {
   "cell_type": "code",
   "execution_count": 2,
   "metadata": {},
   "outputs": [],
   "source": [
    "class NonTerminal():\n",
    "    def __init__(self, id):\n",
    "        self.id = id\n",
    "        \n",
    "    def __str__(self):\n",
    "        return str(self.id)\n",
    "\n",
    "    def __eq__(self, other):\n",
    "        return isinstance(other, NonTerminal) and self.id == other.id\n",
    "    \n",
    "class Terminal():\n",
    "    def __init__(self, id):\n",
    "        self.id = id\n",
    "        \n",
    "    def __str__(self):\n",
    "        return str(self.id)\n",
    "\n",
    "    def __eq__(self, other):\n",
    "        return isinstance(other, Terminal) and self.id == other.id\n",
    "    "
   ]
  },
  {
   "cell_type": "code",
   "execution_count": 3,
   "metadata": {},
   "outputs": [],
   "source": [
    "class Rule():\n",
    "    def __init__(self, left, right):\n",
    "        self.left = left\n",
    "        self.right = right\n",
    "        \n",
    "    def __str__(self):\n",
    "        return str(self.left) + r\" \\rightarrow \" + (\" \".join(str(symbol) for symbol in self.right) if len(self.right) > 0 else \"\\lambda \")\n",
    "    \n",
    "    def __eq__(self, other):\n",
    "        return isinstance(other, Rule) and self.left == other.left and self.right == other.right\n",
    "\n",
    "    @property\n",
    "    def is_simple(self):\n",
    "        \"\"\"A szabály 'egyszerü', ha a jobb oldala csak nem terminálisokból, vagy egy darab terminálisból áll\"\"\"\n",
    "        return all(isinstance(symbol, NonTerminal) for symbol in self.right) or (len(self.right) == 1 and isinstance(self.right[0], Terminal))\n",
    "\n",
    "    @property\n",
    "    def is_short(self):\n",
    "        \"\"\"A szabály 'rövid', ha a jobb oldala nem hosszabb mint két szimbólum\"\"\"\n",
    "        return len(self.right) <= 2\n",
    "    \n",
    "    @property\n",
    "    def is_unitary(self):\n",
    "        \"\"\"A szabály 'egységes', ha a jobb oldalán vagy egy terminális, vagy pontosan kettö nem terminális áll\"\"\"\n",
    "        if (len(self.right) == 1 and isinstance(self.right[0], Terminal)): return True\n",
    "        if (len(self.right) == 2 and isinstance(self.right[0], NonTerminal) and isinstance(self.right[1], NonTerminal)): return True\n",
    "        \n",
    "        return False\n",
    "            "
   ]
  },
  {
   "cell_type": "code",
   "execution_count": 4,
   "metadata": {},
   "outputs": [],
   "source": [
    "class Grammar():\n",
    "    def __init__(self, non_terminals, terminals, start, rules):\n",
    "        self.terminals = terminals\n",
    "        self.non_terminals = non_terminals\n",
    "        self.start = start\n",
    "        self.rules = rules\n",
    "\n",
    "    def add_rule(self, rule):\n",
    "        self.rules.append(rule)\n",
    "\n",
    "    def resolve(self, right):\n",
    "        return {rule.left for rule in self.rules if rule.right == right}\n",
    "    \n",
    "    def __str__(self):\n",
    "        return r\"\"\"\n",
    "            \\langle \\{\"\"\" + ', '.join(str(non_terminal) for non_terminal in self.non_terminals) + r\"\"\"\\}, \n",
    "            \\{\"\"\" + ', '.join(str(terminal) for terminal in self.terminals) + r\"\"\"\\}, \n",
    "            \"\"\" + str(self.start) + r\"\"\", \n",
    "            \\{ \"\"\" + \\\n",
    "            ', '.join(str(rule) for rule in self.rules) +\\\n",
    "            r\"\"\"\\} \\rangle\n",
    "        \"\"\""
   ]
  },
  {
   "cell_type": "markdown",
   "metadata": {},
   "source": [
    "## Segédfüggvények"
   ]
  },
  {
   "cell_type": "code",
   "execution_count": 5,
   "metadata": {},
   "outputs": [],
   "source": [
    "# Segédfüggvények a szabályok kényelmesebb definiálásához\n",
    "def parse_symbol_sequence(symbols, string):\n",
    "    return [symbols[symbol] for symbol in string.split()]\n",
    "\n",
    "def parse_rule(symbols, non_terminal, string):\n",
    "    return Rule(NonTerminal(non_terminal), parse_symbol_sequence(symbols, string))\n"
   ]
  },
  {
   "cell_type": "markdown",
   "metadata": {},
   "source": [
    "## Implementáció\n",
    "\n",
    "```python\n",
    "CFG2CNF(grammar)\n",
    "```"
   ]
  },
  {
   "cell_type": "code",
   "execution_count": 6,
   "metadata": {},
   "outputs": [],
   "source": [
    "def introduce_non_terminal(non_terminals):\n",
    "    candidates = [c for c in string.ascii_uppercase if c not in non_terminals]\n",
    "    if len(candidates) == 0:\n",
    "        raise RuntimeError(\"További nem terminálisok bevezetése nem lehetséges!\")\n",
    "\n",
    "    return candidates[0]\n",
    "\n",
    "def replace_terminals_with_non_terminals(grammar):\n",
    "    non_terminals = {**grammar.non_terminals}\n",
    "    new_rules = []\n",
    "    \n",
    "    def replace_terminal(terminal):\n",
    "        \"\"\"\n",
    "        Ellenörizzük, hogy van-e _ -> [terminal] alakú szabályunk, ha nincs vezessünk be egyet\n",
    "        \n",
    "        Visszatérünk a szabály bal oldalával\n",
    "        \"\"\"\n",
    "        solves = [rule for rule in (grammar.rules + new_rules) if rule.right == [terminal]]\n",
    "        if len(solves) > 0:\n",
    "            return solves[0].left\n",
    "        else:\n",
    "            non_terminal = introduce_non_terminal(non_terminals)\n",
    "            non_terminals[non_terminal] = NonTerminal(non_terminal)\n",
    "            new_rule = Rule(NonTerminal(non_terminal), [terminal])\n",
    "            new_rules.append(new_rule)\n",
    "            \n",
    "            return NonTerminal(non_terminal)\n",
    "\n",
    "    def create_simple_rule(rule):\n",
    "        \"\"\"\n",
    "        A paraméter nem 'egyszerü' szabályból 'egyszerü' szabályt készít, szükség esetén\n",
    "        további szabályok bevezetésével\n",
    "        \"\"\"\n",
    "        right = []\n",
    "        for symbol in rule.right:\n",
    "            if isinstance(symbol, NonTerminal):\n",
    "                right.append(symbol)\n",
    "            else:\n",
    "                right.append(replace_terminal(symbol))\n",
    "        return Rule(rule.left, right)\n",
    "        \n",
    "    def process_rules():\n",
    "        for rule in grammar.rules:\n",
    "            if rule.is_simple:\n",
    "                yield rule\n",
    "            else:\n",
    "                yield create_simple_rule(rule)\n",
    "        for rule in new_rules:\n",
    "            yield rule\n",
    "                \n",
    "    rules = list(process_rules())\n",
    "    \n",
    "    return Grammar(non_terminals, grammar.terminals, grammar.start, rules)\n",
    "\n",
    "def replace_long_rules(grammar):\n",
    "    non_terminals = {**grammar.non_terminals}\n",
    "    new_rules = []\n",
    "\n",
    "    def shorten_rule(rule):\n",
    "        short_right = rule.right[-2:]\n",
    "        solves = [rule for rule in (grammar.rules + new_rules) if rule.right == short_right]\n",
    "        if len(solves) > 0:\n",
    "            left = solves[0].left\n",
    "        else:\n",
    "            non_terminal = introduce_non_terminal(non_terminals)\n",
    "            left = NonTerminal(non_terminal)\n",
    "            non_terminals[non_terminal] = NonTerminal(non_terminal)\n",
    "            new_rule = Rule(left, short_right)\n",
    "            new_rules.append(new_rule)\n",
    "        \n",
    "        remainder = Rule(rule.left, [*rule.right[:-2], left])\n",
    "        \n",
    "        if remainder not in (grammar.rules + new_rules):\n",
    "            if remainder.is_short:\n",
    "                new_rules.append(remainder)\n",
    "            else:\n",
    "                shorten_rule(remainder)\n",
    "\n",
    "    def process_rules():\n",
    "        for rule in grammar.rules:\n",
    "            if rule.is_short:\n",
    "                yield rule\n",
    "            else:\n",
    "                shorten_rule(rule)\n",
    "\n",
    "        for rule in new_rules:\n",
    "            yield rule\n",
    "\n",
    "    rules = list(process_rules())\n",
    "    \n",
    "    return Grammar(non_terminals, grammar.terminals, grammar.start, rules)\n",
    "\n",
    "def deriveable(non_terminal, other, rules, seen = None):\n",
    "    if seen == None:\n",
    "        seen = []\n",
    "    \n",
    "    directs = [rule.right[0] for rule in rules \\\n",
    "               if rule.left == other \\\n",
    "               and len(rule.right) == 1 \\\n",
    "               and rule.right[0] not in seen]\n",
    "\n",
    "    if len(directs) == 0:\n",
    "        return False\n",
    "    \n",
    "    if non_terminal in directs:\n",
    "        return True\n",
    "    \n",
    "    for indirect in directs:\n",
    "        if deriveable(non_terminal, indirect, rules, seen + directs):\n",
    "            return True\n",
    "    \n",
    "    return False\n",
    "\n",
    "def extend(grammar):\n",
    "    \"\"\"\n",
    "    Megadjuk az eredeti nyelvtannal ekvivalens G' Chomsky-féle normálalakú nyelvtant.\n",
    "    Ehhez két lépésre van szükség. Első lépésben meghatározunk egy U(Z) halmazt\n",
    "    minden olyan Z nemterminálishoz, mely levezethető legalább egy másik\n",
    "    nemterminálisból a G 2 nyelvtanban és szerepel olyan H 2 halmazban lévő szabály\n",
    "    bal oldalán, amelynek jobb oldalán egy terminális vagy pedig két nemterminális\n",
    "    betű áll. Az U(Z) halmaz tartalmazni fogja az összes olyan nemterminálist,\n",
    "    melyből egy vagy több lépésben levezethető a Z betű.\n",
    "    \"\"\"\n",
    "    U = {}\n",
    "    for non_terminal in grammar.non_terminals.values():\n",
    "        U[non_terminal.id] = set()\n",
    "        \n",
    "        for other in grammar.non_terminals.values():\n",
    "            if (deriveable(non_terminal, other, grammar.rules)):\n",
    "                U[non_terminal.id].add(other.id)\n",
    "    \n",
    "    \"\"\"\n",
    "    Második lépésben a H' szabályhalmazba átvesszük a H 2 szabályhalmaz mindazon\n",
    "    szabályait, melyek jobb oldalán egy terminális betű vagy pedig kettő nemterminális\n",
    "    található, majd hozzávesszük mindazon szabályokat, melyeket úgy kapunk, hogy a már\n",
    "    átvett szabályok bal oldalán szereplő betűt a hozzá tartozó U halmaz elemeivel\n",
    "    helyettesítjük.\n",
    "    \"\"\"\n",
    "    new_rules = []\n",
    "    \n",
    "    for non_terminal in U:\n",
    "        for rule in grammar.rules:\n",
    "            if rule.left.id == non_terminal:\n",
    "                for substitute in U[non_terminal]:\n",
    "                    new_rule = Rule(NonTerminal(substitute), rule.right[:])\n",
    "                    if new_rule not in (grammar.rules + new_rules):\n",
    "                        new_rules.append(new_rule)\n",
    "                        \n",
    "    return Grammar(grammar.non_terminals, grammar.terminals, grammar.start, grammar.rules + new_rules)\n",
    "\n",
    "def filter(grammar):\n",
    "    \"\"\"\n",
    "    A nem szabályos (A -> BC vagy A -> a alakú) szabályok elhagyása\n",
    "    \"\"\"\n",
    "    return Grammar(grammar.non_terminals, grammar.terminals, grammar.start, \\\n",
    "                   [rule for rule in grammar.rules if rule.is_unitary] \\\n",
    "                   )\n",
    "\n",
    "\n",
    "def CFG2CNF(grammar):\n",
    "    \"\"\"\n",
    "    A paraméter grammar környezetfüggetlen nyelvtant nyelvtan CNF-ra hozza!\n",
    "    \"\"\"\n",
    "    \n",
    "    print('Az eredeti nyelvtan:')\n",
    "    display(Math(str(grammar)))\n",
    "    \n",
    "    print('Terminálisok elkülönítése:')\n",
    "    g1 = replace_terminals_with_non_terminals(grammar)\n",
    "    display(Math(str(g1)))\n",
    "    \n",
    "    print('A hosszú szabályok lerövidítése:')\n",
    "    g2 = replace_long_rules(g1)\n",
    "    display(Math(str(g2)))\n",
    "    \n",
    "    print('Kiterjesztés:')\n",
    "    g3 = extend(g2)\n",
    "    display(Math(str(g3)))\n",
    "\n",
    "    print('Elhagyás:')\n",
    "    g4 = filter(g3)\n",
    "    display(Math(str(g4)))\n",
    "\n",
    "    return g4"
   ]
  },
  {
   "cell_type": "markdown",
   "metadata": {},
   "source": [
    "## Példák"
   ]
  },
  {
   "cell_type": "markdown",
   "metadata": {},
   "source": [
    "### Példa 1"
   ]
  },
  {
   "cell_type": "code",
   "execution_count": 7,
   "metadata": {},
   "outputs": [
    {
     "name": "stdout",
     "output_type": "stream",
     "text": [
      "Az eredeti nyelvtan:\n"
     ]
    },
    {
     "data": {
      "text/latex": [
       "$\\displaystyle \n",
       "            \\langle \\{A, B, S\\}, \n",
       "            \\{a, b, c\\}, \n",
       "            S, \n",
       "            \\{ S \\rightarrow A, S \\rightarrow B c, A \\rightarrow c A B, A \\rightarrow a, B \\rightarrow b A, B \\rightarrow B b S a\\} \\rangle\n",
       "        $"
      ],
      "text/plain": [
       "<IPython.core.display.Math object>"
      ]
     },
     "metadata": {},
     "output_type": "display_data"
    },
    {
     "name": "stdout",
     "output_type": "stream",
     "text": [
      "Terminálisok elkülönítése:\n"
     ]
    },
    {
     "data": {
      "text/latex": [
       "$\\displaystyle \n",
       "            \\langle \\{A, B, S, C, D\\}, \n",
       "            \\{a, b, c\\}, \n",
       "            S, \n",
       "            \\{ S \\rightarrow A, S \\rightarrow B C, A \\rightarrow C A B, A \\rightarrow a, B \\rightarrow D A, B \\rightarrow B D S A, C \\rightarrow c, D \\rightarrow b\\} \\rangle\n",
       "        $"
      ],
      "text/plain": [
       "<IPython.core.display.Math object>"
      ]
     },
     "metadata": {},
     "output_type": "display_data"
    },
    {
     "name": "stdout",
     "output_type": "stream",
     "text": [
      "A hosszú szabályok lerövidítése:\n"
     ]
    },
    {
     "data": {
      "text/latex": [
       "$\\displaystyle \n",
       "            \\langle \\{A, B, S, C, D, E, F, G\\}, \n",
       "            \\{a, b, c\\}, \n",
       "            S, \n",
       "            \\{ S \\rightarrow A, S \\rightarrow B C, A \\rightarrow a, B \\rightarrow D A, C \\rightarrow c, D \\rightarrow b, E \\rightarrow A B, A \\rightarrow C E, F \\rightarrow S A, G \\rightarrow D F, B \\rightarrow B G\\} \\rangle\n",
       "        $"
      ],
      "text/plain": [
       "<IPython.core.display.Math object>"
      ]
     },
     "metadata": {},
     "output_type": "display_data"
    },
    {
     "name": "stdout",
     "output_type": "stream",
     "text": [
      "Kiterjesztés:\n"
     ]
    },
    {
     "data": {
      "text/latex": [
       "$\\displaystyle \n",
       "            \\langle \\{A, B, S, C, D, E, F, G\\}, \n",
       "            \\{a, b, c\\}, \n",
       "            S, \n",
       "            \\{ S \\rightarrow A, S \\rightarrow B C, A \\rightarrow a, B \\rightarrow D A, C \\rightarrow c, D \\rightarrow b, E \\rightarrow A B, A \\rightarrow C E, F \\rightarrow S A, G \\rightarrow D F, B \\rightarrow B G, S \\rightarrow a, S \\rightarrow C E\\} \\rangle\n",
       "        $"
      ],
      "text/plain": [
       "<IPython.core.display.Math object>"
      ]
     },
     "metadata": {},
     "output_type": "display_data"
    },
    {
     "name": "stdout",
     "output_type": "stream",
     "text": [
      "Elhagyás:\n"
     ]
    },
    {
     "data": {
      "text/latex": [
       "$\\displaystyle \n",
       "            \\langle \\{A, B, S, C, D, E, F, G\\}, \n",
       "            \\{a, b, c\\}, \n",
       "            S, \n",
       "            \\{ S \\rightarrow B C, A \\rightarrow a, B \\rightarrow D A, C \\rightarrow c, D \\rightarrow b, E \\rightarrow A B, A \\rightarrow C E, F \\rightarrow S A, G \\rightarrow D F, B \\rightarrow B G, S \\rightarrow a, S \\rightarrow C E\\} \\rangle\n",
       "        $"
      ],
      "text/plain": [
       "<IPython.core.display.Math object>"
      ]
     },
     "metadata": {},
     "output_type": "display_data"
    }
   ],
   "source": [
    "# Terminálisok\n",
    "terminals = {n:Terminal(n) for n in ['a', 'b', 'c']}\n",
    "\n",
    "# Nem terminálisok\n",
    "non_terminals = {n:NonTerminal(n) for n in ['A', 'B', 'S']}\n",
    "\n",
    "# Az összes szimbólum egy halmazban\n",
    "symbols = {**terminals, **non_terminals}\n",
    "\n",
    "g = Grammar(non_terminals, terminals, NonTerminal('S'), [\n",
    "    parse_rule(symbols, 'S', 'A'),\n",
    "    parse_rule(symbols, 'S', 'B c'),\n",
    "    parse_rule(symbols, 'A', 'c A B'),\n",
    "    parse_rule(symbols, 'A', 'a'),\n",
    "    parse_rule(symbols, 'B', 'b A'),\n",
    "    parse_rule(symbols, 'B', 'B b S a'),\n",
    "    ])\n",
    "\n",
    "cnf = CFG2CNF(g)\n"
   ]
  },
  {
   "cell_type": "markdown",
   "metadata": {},
   "source": [
    "### Példa 2"
   ]
  },
  {
   "cell_type": "code",
   "execution_count": 8,
   "metadata": {},
   "outputs": [
    {
     "name": "stdout",
     "output_type": "stream",
     "text": [
      "Az eredeti nyelvtan:\n"
     ]
    },
    {
     "data": {
      "text/latex": [
       "$\\displaystyle \n",
       "            \\langle \\{A, B, S\\}, \n",
       "            \\{a, b, c\\}, \n",
       "            S, \n",
       "            \\{ S \\rightarrow A B a b a, A \\rightarrow B, A \\rightarrow c, B \\rightarrow A b A, B \\rightarrow S\\} \\rangle\n",
       "        $"
      ],
      "text/plain": [
       "<IPython.core.display.Math object>"
      ]
     },
     "metadata": {},
     "output_type": "display_data"
    },
    {
     "name": "stdout",
     "output_type": "stream",
     "text": [
      "Terminálisok elkülönítése:\n"
     ]
    },
    {
     "data": {
      "text/latex": [
       "$\\displaystyle \n",
       "            \\langle \\{A, B, S, C, D\\}, \n",
       "            \\{a, b, c\\}, \n",
       "            S, \n",
       "            \\{ S \\rightarrow A B C D C, A \\rightarrow B, A \\rightarrow c, B \\rightarrow A D A, B \\rightarrow S, C \\rightarrow a, D \\rightarrow b\\} \\rangle\n",
       "        $"
      ],
      "text/plain": [
       "<IPython.core.display.Math object>"
      ]
     },
     "metadata": {},
     "output_type": "display_data"
    },
    {
     "name": "stdout",
     "output_type": "stream",
     "text": [
      "A hosszú szabályok lerövidítése:\n"
     ]
    },
    {
     "data": {
      "text/latex": [
       "$\\displaystyle \n",
       "            \\langle \\{A, B, S, C, D, E, F, G, H\\}, \n",
       "            \\{a, b, c\\}, \n",
       "            S, \n",
       "            \\{ A \\rightarrow B, A \\rightarrow c, B \\rightarrow S, C \\rightarrow a, D \\rightarrow b, E \\rightarrow D C, F \\rightarrow C E, G \\rightarrow B F, S \\rightarrow A G, H \\rightarrow D A, B \\rightarrow A H\\} \\rangle\n",
       "        $"
      ],
      "text/plain": [
       "<IPython.core.display.Math object>"
      ]
     },
     "metadata": {},
     "output_type": "display_data"
    },
    {
     "name": "stdout",
     "output_type": "stream",
     "text": [
      "Kiterjesztés:\n"
     ]
    },
    {
     "data": {
      "text/latex": [
       "$\\displaystyle \n",
       "            \\langle \\{A, B, S, C, D, E, F, G, H\\}, \n",
       "            \\{a, b, c\\}, \n",
       "            S, \n",
       "            \\{ A \\rightarrow B, A \\rightarrow c, B \\rightarrow S, C \\rightarrow a, D \\rightarrow b, E \\rightarrow D C, F \\rightarrow C E, G \\rightarrow B F, S \\rightarrow A G, H \\rightarrow D A, B \\rightarrow A H, A \\rightarrow S, A \\rightarrow A H, B \\rightarrow A G, A \\rightarrow A G\\} \\rangle\n",
       "        $"
      ],
      "text/plain": [
       "<IPython.core.display.Math object>"
      ]
     },
     "metadata": {},
     "output_type": "display_data"
    },
    {
     "name": "stdout",
     "output_type": "stream",
     "text": [
      "Elhagyás:\n"
     ]
    },
    {
     "data": {
      "text/latex": [
       "$\\displaystyle \n",
       "            \\langle \\{A, B, S, C, D, E, F, G, H\\}, \n",
       "            \\{a, b, c\\}, \n",
       "            S, \n",
       "            \\{ A \\rightarrow c, C \\rightarrow a, D \\rightarrow b, E \\rightarrow D C, F \\rightarrow C E, G \\rightarrow B F, S \\rightarrow A G, H \\rightarrow D A, B \\rightarrow A H, A \\rightarrow A H, B \\rightarrow A G, A \\rightarrow A G\\} \\rangle\n",
       "        $"
      ],
      "text/plain": [
       "<IPython.core.display.Math object>"
      ]
     },
     "metadata": {},
     "output_type": "display_data"
    }
   ],
   "source": [
    "# Terminálisok\n",
    "terminals = {n:Terminal(n) for n in ['a', 'b', 'c']}\n",
    "\n",
    "# Nem terminálisok\n",
    "non_terminals = {n:NonTerminal(n) for n in ['A', 'B', 'S']}\n",
    "\n",
    "# Az összes szimbólum egy halmazban\n",
    "symbols = {**terminals, **non_terminals}\n",
    "\n",
    "g = Grammar(non_terminals, terminals, NonTerminal('S'), [\n",
    "    parse_rule(symbols, 'S', 'A B a b a'),\n",
    "    parse_rule(symbols, 'A', 'B'),\n",
    "    parse_rule(symbols, 'A', 'c'),\n",
    "    parse_rule(symbols, 'B', 'A b A'),\n",
    "    parse_rule(symbols, 'B', 'S'),\n",
    "    ])\n",
    "\n",
    "cnf = CFG2CNF(g)"
   ]
  },
  {
   "cell_type": "markdown",
   "metadata": {},
   "source": [
    "### Példa 3"
   ]
  },
  {
   "cell_type": "code",
   "execution_count": 9,
   "metadata": {},
   "outputs": [
    {
     "name": "stdout",
     "output_type": "stream",
     "text": [
      "Az eredeti nyelvtan:\n"
     ]
    },
    {
     "data": {
      "text/latex": [
       "$\\displaystyle \n",
       "            \\langle \\{D, S\\}, \n",
       "            \\{a, b, c\\}, \n",
       "            S, \n",
       "            \\{ S \\rightarrow a S c, S \\rightarrow D, D \\rightarrow b D, D \\rightarrow b\\} \\rangle\n",
       "        $"
      ],
      "text/plain": [
       "<IPython.core.display.Math object>"
      ]
     },
     "metadata": {},
     "output_type": "display_data"
    },
    {
     "name": "stdout",
     "output_type": "stream",
     "text": [
      "Terminálisok elkülönítése:\n"
     ]
    },
    {
     "data": {
      "text/latex": [
       "$\\displaystyle \n",
       "            \\langle \\{D, S, A, B\\}, \n",
       "            \\{a, b, c\\}, \n",
       "            S, \n",
       "            \\{ S \\rightarrow A S B, S \\rightarrow D, D \\rightarrow D D, D \\rightarrow b, A \\rightarrow a, B \\rightarrow c\\} \\rangle\n",
       "        $"
      ],
      "text/plain": [
       "<IPython.core.display.Math object>"
      ]
     },
     "metadata": {},
     "output_type": "display_data"
    },
    {
     "name": "stdout",
     "output_type": "stream",
     "text": [
      "A hosszú szabályok lerövidítése:\n"
     ]
    },
    {
     "data": {
      "text/latex": [
       "$\\displaystyle \n",
       "            \\langle \\{D, S, A, B, C\\}, \n",
       "            \\{a, b, c\\}, \n",
       "            S, \n",
       "            \\{ S \\rightarrow D, D \\rightarrow D D, D \\rightarrow b, A \\rightarrow a, B \\rightarrow c, C \\rightarrow S B, S \\rightarrow A C\\} \\rangle\n",
       "        $"
      ],
      "text/plain": [
       "<IPython.core.display.Math object>"
      ]
     },
     "metadata": {},
     "output_type": "display_data"
    },
    {
     "name": "stdout",
     "output_type": "stream",
     "text": [
      "Kiterjesztés:\n"
     ]
    },
    {
     "data": {
      "text/latex": [
       "$\\displaystyle \n",
       "            \\langle \\{D, S, A, B, C\\}, \n",
       "            \\{a, b, c\\}, \n",
       "            S, \n",
       "            \\{ S \\rightarrow D, D \\rightarrow D D, D \\rightarrow b, A \\rightarrow a, B \\rightarrow c, C \\rightarrow S B, S \\rightarrow A C, S \\rightarrow D D, S \\rightarrow b\\} \\rangle\n",
       "        $"
      ],
      "text/plain": [
       "<IPython.core.display.Math object>"
      ]
     },
     "metadata": {},
     "output_type": "display_data"
    },
    {
     "name": "stdout",
     "output_type": "stream",
     "text": [
      "Elhagyás:\n"
     ]
    },
    {
     "data": {
      "text/latex": [
       "$\\displaystyle \n",
       "            \\langle \\{D, S, A, B, C\\}, \n",
       "            \\{a, b, c\\}, \n",
       "            S, \n",
       "            \\{ D \\rightarrow D D, D \\rightarrow b, A \\rightarrow a, B \\rightarrow c, C \\rightarrow S B, S \\rightarrow A C, S \\rightarrow D D, S \\rightarrow b\\} \\rangle\n",
       "        $"
      ],
      "text/plain": [
       "<IPython.core.display.Math object>"
      ]
     },
     "metadata": {},
     "output_type": "display_data"
    }
   ],
   "source": [
    "# Terminálisok\n",
    "terminals = {n:Terminal(n) for n in ['a', 'b', 'c']}\n",
    "\n",
    "# Nem terminálisok\n",
    "non_terminals = {n:NonTerminal(n) for n in ['D', 'S']}\n",
    "\n",
    "# Az összes szimbólum egy halmazban\n",
    "symbols = {**terminals, **non_terminals}\n",
    "\n",
    "g = Grammar(non_terminals, terminals, NonTerminal('S'), [\n",
    "    parse_rule(symbols, 'S', 'a S c'),\n",
    "    parse_rule(symbols, 'S', 'D'),\n",
    "    parse_rule(symbols, 'D', 'b D'),\n",
    "    parse_rule(symbols, 'D', 'b'),\n",
    "    ])\n",
    "\n",
    "cnf = CFG2CNF(g)"
   ]
  },
  {
   "cell_type": "code",
   "execution_count": null,
   "metadata": {},
   "outputs": [],
   "source": []
  }
 ],
 "metadata": {
  "kernelspec": {
   "display_name": "Python 3",
   "language": "python",
   "name": "python3"
  },
  "language_info": {
   "codemirror_mode": {
    "name": "ipython",
    "version": 3
   },
   "file_extension": ".py",
   "mimetype": "text/x-python",
   "name": "python",
   "nbconvert_exporter": "python",
   "pygments_lexer": "ipython3",
   "version": "3.7.6"
  }
 },
 "nbformat": 4,
 "nbformat_minor": 4
}
