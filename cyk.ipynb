{
 "cells": [
  {
   "cell_type": "markdown",
   "metadata": {},
   "source": [
    "# C-Y-K algoritmus\n",
    "\n",
    "_Sipos István_  \n",
    "_2020.04.14_"
   ]
  },
  {
   "cell_type": "markdown",
   "metadata": {},
   "source": [
    "Az algoritmussal  tetszőleges Chomsky féle normál alakban megadott nyelvtan és tetszőleges terminális sztring esetén eldönthető (polinomiális időben), hogy a sztring eleme-e a nyelvtan által generált nyelvnek. "
   ]
  },
  {
   "cell_type": "markdown",
   "metadata": {},
   "source": [
    "## Implementáció"
   ]
  },
  {
   "cell_type": "markdown",
   "metadata": {},
   "source": [
    "### Rule osztály\n",
    "\n",
    "Egy nyelvtani szabályt reprezentál, két tulajdonsága (_left_ és _right_) a felírt szabály két oldalát jelenti.\n",
    "\n",
    "Pl.:\n",
    "\n",
    "$$S \\rightarrow AB$$\n",
    "\n",
    "szabály így fogalmazható meg:\n",
    "```python\n",
    "Role('S', ['A', 'B'])\n",
    "\n",
    "```"
   ]
  },
  {
   "cell_type": "code",
   "execution_count": 1,
   "metadata": {},
   "outputs": [],
   "source": [
    "class Rule():\n",
    "    def __init__(self, left, right):\n",
    "        self.left = left\n",
    "        self.right = right\n",
    "        "
   ]
  },
  {
   "cell_type": "markdown",
   "metadata": {},
   "source": [
    "### Grammar osztály\n",
    "\n",
    "A konstruktor paramétere a startszimbólum. A nyevtan szabályai az _add()_ metódussal adhatók hozzá. A _resolve(right)_ metódus azoknak a szabályoknak a bal oldalával tér vissza, amelyek jobb oldala a _right_ paraméter.\n"
   ]
  },
  {
   "cell_type": "code",
   "execution_count": 2,
   "metadata": {},
   "outputs": [],
   "source": [
    "class Grammar():\n",
    "    def __init__(self, start):\n",
    "        self.start = start\n",
    "        self.rules = []\n",
    "        \n",
    "    def add(self, rule):\n",
    "        self.rules.append(rule)\n",
    "\n",
    "    def resolve(self, right):\n",
    "        return {rule.left for rule in self.rules if rule.right == right}"
   ]
  },
  {
   "cell_type": "markdown",
   "metadata": {},
   "source": [
    "### ParseTable osztály\n",
    "\n",
    "A CYK algoritmusban használt alsótrianguláris mátrixot valósítja meg, a konstruktor paramétere a méret.   \n",
    "Az egyes mezöket _ParseTable\\[sor, oszlop\\]_ címzéssel lehet elérni."
   ]
  },
  {
   "cell_type": "code",
   "execution_count": 3,
   "metadata": {},
   "outputs": [],
   "source": [
    "class ParseTable():\n",
    "    def __init__(self, size):\n",
    "        self.size = size\n",
    "        self.table = [[set() for j in range(i)] for i in range(size, 0, -1)]\n",
    "\n",
    "    def __getitem__(self, pos):\n",
    "        i, j = pos\n",
    "        return self.table[i - 1][i - j]\n",
    "\n",
    "    def __str__(self):\n",
    "        result = \"\"\n",
    "        for x in range(1, self.size + 1):\n",
    "            for y in range(1, x + 1):\n",
    "                result += \" \" + str(self[y, self.size + y - x])\n",
    "            result += \"\\n\"\n",
    "        return result"
   ]
  },
  {
   "cell_type": "markdown",
   "metadata": {},
   "source": [
    "### CYK osztály\n",
    "A konstruktor _grammar_ paramétere egy _Grammar_ típusó nyelvtan. A _parse(word)_ függvény visszatérési értéke a egy _bool_, amely igaz ha a _grammar_ nyelvtanban levezethetö a _word_ szó, egyébként hamis, és egy _ParseTable_, ami a levezetés során elöállt mátrixot tartalmazza."
   ]
  },
  {
   "cell_type": "code",
   "execution_count": 4,
   "metadata": {},
   "outputs": [],
   "source": [
    "class CYK():\n",
    "    def __init__(self, grammar):\n",
    "        self.grammar = grammar\n",
    "\n",
    "    def parse(self, word):\n",
    "        parse_table = ParseTable(len(word))\n",
    "        \n",
    "        self.calulate_first_level(parse_table, word)\n",
    "\n",
    "        for level in range(2, len(word)+1):\n",
    "            self.calculate_level(parse_table, level)\n",
    "            \n",
    "        return self.grammar.start in parse_table[1, len(word)], parse_table\n",
    "\n",
    "    def calulate_first_level(self, parse_table, word):\n",
    "        for i in range(1, len(word)+1):\n",
    "            parse_table[i, i].update(self.grammar.resolve([word[i-1]]))\n",
    "\n",
    "    def calculate_level(self, parse_table, level):\n",
    "        for x in range(1, parse_table.size + 2 - level):\n",
    "            self.calculate_element(parse_table, x, level + x - 1)\n",
    "            \n",
    "    def calculate_element(self, parse_table, i, j):\n",
    "        level = j - i + 1\n",
    "        for x in range(level-1):\n",
    "            left = parse_table[i, i + x]\n",
    "            right = parse_table[i + x + 1, j]\n",
    "            for l in left:\n",
    "                for r in right:\n",
    "                    parse_table[i, j].update(self.grammar.resolve([l, r]))"
   ]
  },
  {
   "cell_type": "markdown",
   "metadata": {},
   "source": [
    "## Példa\n",
    "\n",
    "Definiáljuk a jegyzetben példaként megtalálható nyelvtant!"
   ]
  },
  {
   "cell_type": "code",
   "execution_count": 8,
   "metadata": {},
   "outputs": [],
   "source": [
    "g = Grammar(start = 'S')\n",
    "\n",
    "g.add(Rule('S', list('AB')))\n",
    "g.add(Rule('S', list('CD')))\n",
    "g.add(Rule('S', list('CB')))\n",
    "g.add(Rule('S', list('SS')))\n",
    "g.add(Rule('A', list('BC')))\n",
    "g.add(Rule('A', list('a')))\n",
    "g.add(Rule('B', list('SC')))\n",
    "g.add(Rule('B', list('b')))\n",
    "g.add(Rule('C', list('DD')))\n",
    "g.add(Rule('C', list('b')))\n",
    "g.add(Rule('D', list('BA')))"
   ]
  },
  {
   "cell_type": "markdown",
   "metadata": {},
   "source": [
    "Lássuk, hogy a _'aabbaba'_ szó levezethetö-e a fenti nyelvtan szabályai szerint az _S_ startszimbólumból:"
   ]
  },
  {
   "cell_type": "code",
   "execution_count": 9,
   "metadata": {},
   "outputs": [],
   "source": [
    "word = 'aabbaba'\n",
    "parseable, parse_table = CYK(grammar = g).parse(list(word))"
   ]
  },
  {
   "cell_type": "code",
   "execution_count": 10,
   "metadata": {},
   "outputs": [
    {
     "name": "stdout",
     "output_type": "stream",
     "text": [
      "A \"aabbaba\" szó a fenti nyelvtan szabályai szerint az S startszimbólumból levezethetö, és a levezetés során a következö mátrix állt elö:\n",
      " {'S'}\n",
      " {'S'} {'C', 'B'}\n",
      " set() {'S'} {'A', 'D'}\n",
      " {'S'} {'D'} {'B', 'S'} {'C'}\n",
      " set() {'B'} {'S'} set() set()\n",
      " set() {'S'} {'A', 'S'} {'D'} {'S'} {'D'}\n",
      " {'A'} {'A'} {'C', 'B'} {'C', 'B'} {'A'} {'C', 'B'} {'A'}\n",
      "\n"
     ]
    }
   ],
   "source": [
    "if parseable:\n",
    "    print(f'A \"{word}\" szó a fenti nyelvtan szabályai szerint az {g.start} startszimbólumból levezethetö, és a levezetés során a következö mátrix állt elö:')\n",
    "else:\n",
    "    print(f'A \"{word}\" szó a fenti nyelvtan szabályai szerint az {g.start} startszimbólumból nem vezethetö le. A számítás során elöállt mátrix:')\n",
    "\n",
    "print(parse_table)\n"
   ]
  },
  {
   "cell_type": "code",
   "execution_count": null,
   "metadata": {},
   "outputs": [],
   "source": []
  }
 ],
 "metadata": {
  "kernelspec": {
   "display_name": "Python 3",
   "language": "python",
   "name": "python3"
  },
  "language_info": {
   "codemirror_mode": {
    "name": "ipython",
    "version": 3
   },
   "file_extension": ".py",
   "mimetype": "text/x-python",
   "name": "python",
   "nbconvert_exporter": "python",
   "pygments_lexer": "ipython3",
   "version": "3.7.6"
  }
 },
 "nbformat": 4,
 "nbformat_minor": 4
}
