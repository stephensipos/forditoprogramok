{
 "cells": [
  {
   "cell_type": "markdown",
   "metadata": {},
   "source": [
    "# Top-Down parser\n",
    "## Általános felülröl lefelé elemzés\n",
    "\n",
    "_Sipos István_  \n",
    "_2020.04.13_"
   ]
  },
  {
   "cell_type": "markdown",
   "metadata": {},
   "source": [
    "### Feladat\n",
    "\n",
    "Adjunk olyan algoritmust, amely tetszőleges $G=(V_N, V_T , S, H)$ környezetfüggetlen nyelvtan és $w \\in \\Sigma *$ szó esetén eldönti, hogy $w \\in L(G)$ teljesül-e!\n",
    "\n",
    "#### Algoritmus inputja:\n",
    "Egy nem balrekurzív $G=(V_N , V_T , S, H)$ környezetfüggetlen nyelvtan és egy $w=a_1, a_2, ... a_n , n > 0$ input szó. A $w$ szót $n+1$. szimbólumként egy # jel zárja le. A # nem tartozik sem $V_N$ -hez, sem  $V_T$-hez.\n",
    "\n",
    "#### Algoritmus outputja:\n",
    "Igen jelzés, és a $w$ szónak egy baloldali levezetése, ha $w \\in L(G)$. Nem jelzés egyébként.\n",
    "\n",
    "#### Módszer:\n",
    "1. Minden $A \\in V_N$ esetén rögzítsük le az $A$ alternatíváit $A \\rightarrow \\gamma_1 \\mid \\gamma_2 \\mid ... \\mid \\gamma_k$ alakban. Az $A$ i-dik alternatíváját $A_i$ jelöli. (Implementáláskor az (A, i) párt alkalmazzuk $A_i$jelölésére.) \n",
    "2. Az elemzés $(s, i, \\alpha, \\beta)$ alakú konfigurációk sorozata.\n",
    "3. A konfigurációk halmazán megadunk egy \\vdash átmeneti relációt. A rákövetkező konfiguráció meghatározása az alábbiakban megadott felsorolásból történik.\n",
    "4. A kezdő konfiguráció $(q,1, \\lambda, S)$. A befejező konfiguráció: $(t, n+1,\\alpha, \\lambda)$ $w \\in L(G)$ akkor és csak akkor, ha $(q,1, \\lambda, S) \\vdash* (t, n+1, \\alpha, \\lambda)$\n",
    "\n",
    "#### A konfiguráció:\n",
    "\n",
    "$(s, i, \\alpha, \\beta)$ értelmezése:  \n",
    "  * s: az elemzés állapota. \n",
    "    * q: normál\n",
    "    * t: elfogadó\n",
    "    * b: backtrack\n",
    "  * i: pointer az input szóban (1 < i < n+1)\n",
    "  * $\\alpha$: jobbvégtetejű verem, az elemzés története backtrack-hez és a baloldali levezetéshez. (Passzív verem)\n",
    "  * $\\beta$: balvégtetejű verem, a még levezetendő baloldali mondatforma. (Aktív verem)"
   ]
  },
  {
   "cell_type": "markdown",
   "metadata": {},
   "source": [
    "### Implementáció"
   ]
  },
  {
   "cell_type": "code",
   "execution_count": 1,
   "metadata": {},
   "outputs": [],
   "source": [
    "from IPython.display import display, Math"
   ]
  },
  {
   "cell_type": "markdown",
   "metadata": {},
   "source": [
    "A konfigurációban tárolt állapotok"
   ]
  },
  {
   "cell_type": "code",
   "execution_count": 2,
   "metadata": {},
   "outputs": [],
   "source": [
    "class Status():\n",
    "    def __init__(self, text):\n",
    "        self.text = text\n",
    "    def __str__(self):\n",
    "        return self.text\n",
    "    def __eq__(self, other):\n",
    "        return isinstance(other, Status) and self.text == other.text\n",
    "\n",
    "NORMAL = Status('q')\n",
    "ACCEPT = Status('t')\n",
    "BACKTRACK = Status('b')"
   ]
  },
  {
   "cell_type": "markdown",
   "metadata": {},
   "source": [
    "Az aktív és passzív vermek osztálya"
   ]
  },
  {
   "cell_type": "code",
   "execution_count": 3,
   "metadata": {},
   "outputs": [],
   "source": [
    "class Stack(list):\n",
    "    @property\n",
    "    def empty(self):\n",
    "        return len(self) == 0\n",
    "    \n",
    "    def __str__(self):\n",
    "        if self.empty:\n",
    "            return r'\\{\\lambda\\}'\n",
    "        return r'\\{' + r' \\mid '.join(str(e) for e in self) + r'\\}'"
   ]
  },
  {
   "cell_type": "markdown",
   "metadata": {},
   "source": [
    "A terminális és nem-terminális típusok"
   ]
  },
  {
   "cell_type": "code",
   "execution_count": 4,
   "metadata": {},
   "outputs": [],
   "source": [
    "class NonTerminal():\n",
    "    def __init__(self, non_terminal, index = None):\n",
    "        if isinstance(non_terminal, NonTerminal):\n",
    "            self.non_terminal = non_terminal.non_terminal\n",
    "        else:\n",
    "            self.non_terminal = non_terminal\n",
    "        self.index = index\n",
    "        \n",
    "    def __str__(self):\n",
    "        if self.index == None:\n",
    "            return str(self.non_terminal)\n",
    "        return r'{}_{}'.format(str(self.non_terminal), self.index)\n",
    "\n",
    "    def __eq__(self, other):\n",
    "        return isinstance(other, NonTerminal) and self.non_terminal == other.non_terminal\n",
    "    \n",
    "class Terminal():\n",
    "    def __init__(self, terminal):\n",
    "        if isinstance(terminal, Terminal):\n",
    "            self.terminal = terminal.terminal\n",
    "        else:\n",
    "            self.terminal = terminal\n",
    "        \n",
    "    def __str__(self):\n",
    "        return str(self.terminal)\n",
    "\n",
    "    def __eq__(self, other):\n",
    "        return isinstance(other, Terminal) and self.terminal == other.terminal"
   ]
  },
  {
   "cell_type": "markdown",
   "metadata": {},
   "source": [
    "Az aktuális konfigurációt tároló osztály"
   ]
  },
  {
   "cell_type": "code",
   "execution_count": 5,
   "metadata": {},
   "outputs": [],
   "source": [
    "class Configuration():\n",
    "    def __init__(self, status, index, active_stack, passive_stack):\n",
    "        self.status = status\n",
    "        self.index = index\n",
    "        self.active_stack = active_stack\n",
    "        self.passive_stack = passive_stack\n",
    "        \n",
    "    def __str__(self):\n",
    "        return r'(' +\\\n",
    "            str(self.status) + ', ' +\\\n",
    "            str(self.index) + ', ' +\\\n",
    "            str(self.active_stack) + ', ' +\\\n",
    "            str(self.passive_stack) +\\\n",
    "            ')'\n",
    "\n",
    "    @property\n",
    "    def accepted(self):\n",
    "        return self.status == ACCEPT and self.passive_stack.empty"
   ]
  },
  {
   "cell_type": "markdown",
   "metadata": {},
   "source": [
    "Segédfüggvények"
   ]
  },
  {
   "cell_type": "code",
   "execution_count": 6,
   "metadata": {},
   "outputs": [],
   "source": [
    "LOGGING_ENABLED = True\n",
    "\n",
    "def log(msg):\n",
    "    def decorator_log(func):\n",
    "        def wrapper_log(*args, **argv):\n",
    "            if LOGGING_ENABLED:\n",
    "                print(msg)\n",
    "            return func(*args, **argv)\n",
    "        return wrapper_log\n",
    "    return decorator_log"
   ]
  },
  {
   "cell_type": "markdown",
   "metadata": {},
   "source": [
    "A nyelvet tároló, és a levezethetöséget kiszámító osztály.  \n",
    "A konstruktor paraméterei:\n",
    "  * **S**: _NonTerminal_ típusú érték\n",
    "  * **H**: Szabályok listája. Az egyes szabályok _(NonTerminal, \\[(Terminal|NonTerminal), ...\\])_ felépítésüek lehetnek"
   ]
  },
  {
   "cell_type": "code",
   "execution_count": 7,
   "metadata": {},
   "outputs": [],
   "source": [
    "class Lang():\n",
    "    def __init__(self, S, H):\n",
    "        self.S = S\n",
    "        self.H = H\n",
    "\n",
    "    def substitutes(self, non_terminal):\n",
    "        return [e for (NT, e) in self.H if NT == non_terminal]\n",
    "\n",
    "    @log('Kiterjesztés')\n",
    "    def extend(self, configuration):\n",
    "        substitute = self.substitutes(configuration.passive_stack[0])[0]\n",
    "        return Configuration(NORMAL,\n",
    "                         configuration.index,\n",
    "                         Stack([*(configuration.active_stack), NonTerminal(configuration.passive_stack[0], 1)]),\n",
    "                         Stack([*(substitute), *(configuration.passive_stack[1:])])\n",
    "                         )\n",
    "    @log('Sikeres input ellenörzés')\n",
    "    def advance(self, configuration):\n",
    "        return Configuration(NORMAL,\n",
    "                         configuration.index + 1,\n",
    "                         Stack([*(configuration.active_stack), configuration.passive_stack[0]]),\n",
    "                         Stack(configuration.passive_stack[1:])\n",
    "                         )\n",
    "\n",
    "    @log('Sikeres elemzés!')\n",
    "    def accept(self, configuration):\n",
    "        return Configuration(ACCEPT,\n",
    "                         configuration.index,\n",
    "                         Stack(configuration.active_stack),\n",
    "                         Stack(configuration.passive_stack)\n",
    "                         )\n",
    "\n",
    "    @log('Sikertelen input illesztés')\n",
    "    def set_backtrack(self, configuration):\n",
    "        return Configuration(BACKTRACK,\n",
    "                         configuration.index,\n",
    "                         Stack(configuration.active_stack),\n",
    "                         Stack(configuration.passive_stack)\n",
    "                         )\n",
    "\n",
    "    @log('Backtrack az inputban')\n",
    "    def backtrack(self, configuration):\n",
    "        return Configuration(BACKTRACK,\n",
    "                         configuration.index - 1,\n",
    "                         Stack([*(configuration.active_stack[:-1])]),\n",
    "                         Stack([configuration.active_stack[-1], *(configuration.passive_stack)])\n",
    "                         )\n",
    "    \n",
    "    @log('Backtrack a kiterjesztésben I.')\n",
    "    def next_substitute(self, configuration):\n",
    "        non_terminal = configuration.active_stack[-1]\n",
    "        current_substitute = self.substitutes(non_terminal)[non_terminal.index-1]\n",
    "        substitute = self.substitutes(non_terminal)[non_terminal.index]\n",
    "        return Configuration(NORMAL,\n",
    "                         configuration.index,\n",
    "                         Stack([*(configuration.active_stack[:-1]), NonTerminal(non_terminal, non_terminal.index+1)]),\n",
    "                         Stack([*(substitute[::-1]), *(configuration.passive_stack[len(current_substitute):])])\n",
    "                         )\n",
    "\n",
    "    @log('Backtrack a kiterjesztésben III.')\n",
    "    def previous(self, configuration):\n",
    "        non_terminal = configuration.active_stack[-1]\n",
    "        substitute = self.substitutes(non_terminal)[non_terminal.index-1]\n",
    "        \n",
    "        return Configuration(BACKTRACK,\n",
    "                         configuration.index,\n",
    "                         Stack([*(configuration.active_stack[:-1])]),\n",
    "                         Stack([NonTerminal(configuration.active_stack[-1]), *(configuration.passive_stack[len(substitute):])])\n",
    "                         )\n",
    "\n",
    "    def is_deriveable(self, w):\n",
    "        \"\"\"A w szó levezetése\"\"\"\n",
    "        \n",
    "        configuration = Configuration(NORMAL, 1, Stack(), Stack([self.S]))\n",
    "\n",
    "        while True:\n",
    "            if LOGGING_ENABLED:\n",
    "                display(Math(str(configuration)))\n",
    "\n",
    "            if configuration.accepted:\n",
    "                return True, configuration.active_stack\n",
    "            elif configuration.status == NORMAL:\n",
    "                if configuration.index == len(w) and configuration.passive_stack.empty:\n",
    "                    configuration = self.accept(configuration)\n",
    "                elif isinstance(configuration.passive_stack[0], NonTerminal):\n",
    "                    configuration = self.extend(configuration)\n",
    "                elif configuration.passive_stack[0] == w[configuration.index -1]:\n",
    "                    configuration = self.advance(configuration)\n",
    "                elif configuration.passive_stack[0] != w[configuration.index -1]:\n",
    "                    configuration = self.set_backtrack(configuration)\n",
    "                else:\n",
    "                    assert False\n",
    "            elif configuration.status == BACKTRACK:\n",
    "                if isinstance(configuration.active_stack[-1], Terminal):\n",
    "                    configuration = self.backtrack(configuration)\n",
    "                elif isinstance(configuration.active_stack[-1], NonTerminal):\n",
    "                    non_terminal = configuration.active_stack[-1]\n",
    "                    if non_terminal.index+1 == len(self.substitutes(non_terminal)):\n",
    "                        configuration = self.next_substitute(configuration)\n",
    "                    elif configuration.index == 1 and non_terminal == self.S and non_terminal.index == len(self.substitutes(non_terminal)):\n",
    "                        return False, None\n",
    "                    else:\n",
    "                        configuration = self.previous(configuration)\n",
    "                else:\n",
    "                    assert False\n",
    "            else:\n",
    "                assert False"
   ]
  },
  {
   "cell_type": "markdown",
   "metadata": {},
   "source": [
    "### Egy példa\n",
    "\n",
    "A jegyzetben megtalálható"
   ]
  },
  {
   "cell_type": "markdown",
   "metadata": {},
   "source": [
    "#### A nyelv definiálása"
   ]
  },
  {
   "cell_type": "code",
   "execution_count": 8,
   "metadata": {},
   "outputs": [],
   "source": [
    "# Terminálisok\n",
    "terminals = {n:Terminal(n) for n in ['a', 'b', '+']}\n",
    "\n",
    "# Nem terminálisok\n",
    "non_terminals = {n:NonTerminal(n) for n in ['S', 'T']}\n",
    "\n",
    "# Az összes szimbólum egy halmazban\n",
    "symbols = {**terminals, **non_terminals}\n",
    "\n",
    "# Segédfüggvények a szabályok kényelmesebb definiálásához\n",
    "def parse_symbol_sequence(string):\n",
    "    return [symbols[symbol] for symbol in string.split()]\n",
    "\n",
    "def parse_rule(non_terminal, string):\n",
    "    return (NonTerminal(non_terminal), parse_symbol_sequence(string))\n",
    "\n",
    "S = non_terminals['S']\n",
    "\n",
    "H = [parse_rule('S', 'T + S'),\n",
    "     parse_rule('S', 'T'),\n",
    "     parse_rule('T', 'a'),\n",
    "     parse_rule('T', 'b'),\n",
    "     ]\n",
    "\n",
    "G = Lang(S, H)"
   ]
  },
  {
   "cell_type": "markdown",
   "metadata": {},
   "source": [
    "#### Levezetés\n",
    "\n",
    "Levezethetö-e a 'b + a' szó a fent definiált szabályokból?"
   ]
  },
  {
   "cell_type": "code",
   "execution_count": 9,
   "metadata": {},
   "outputs": [
    {
     "name": "stdout",
     "output_type": "stream",
     "text": [
      "A \"b + a\" szó levezethetö az S nem-terminálisból következö behelyettesítések alkalmazásával:\n"
     ]
    },
    {
     "data": {
      "text/latex": [
       "$\\displaystyle S_1, T_2, S_2, T_1$"
      ],
      "text/plain": [
       "<IPython.core.display.Math object>"
      ]
     },
     "metadata": {},
     "output_type": "display_data"
    }
   ],
   "source": [
    "LOGGING_ENABLED = False\n",
    "word = 'b + a'\n",
    "w = parse_symbol_sequence(word) + ['#']\n",
    "deriveable, steps = G.is_deriveable(w)\n",
    "\n",
    "if deriveable:\n",
    "    print(f'A \"{word}\" szó levezethetö az {str(S)} nem-terminálisból következö behelyettesítések alkalmazásával:')\n",
    "    display(Math(\", \".join(str(step) for step in steps if isinstance(step, NonTerminal))))\n",
    "else:\n",
    "    print(f'A \"{word}\" szó nem vezethetö le az {str(S)} nem-terminálisból')"
   ]
  },
  {
   "cell_type": "markdown",
   "metadata": {},
   "source": [
    "A levezetés közben az algoritmus a következö lépéseket végezte:"
   ]
  },
  {
   "cell_type": "code",
   "execution_count": 10,
   "metadata": {},
   "outputs": [
    {
     "data": {
      "text/latex": [
       "$\\displaystyle (q, 1, \\{\\lambda\\}, \\{S\\})$"
      ],
      "text/plain": [
       "<IPython.core.display.Math object>"
      ]
     },
     "metadata": {},
     "output_type": "display_data"
    },
    {
     "name": "stdout",
     "output_type": "stream",
     "text": [
      "Kiterjesztés\n"
     ]
    },
    {
     "data": {
      "text/latex": [
       "$\\displaystyle (q, 1, \\{S_1\\}, \\{T \\mid + \\mid S\\})$"
      ],
      "text/plain": [
       "<IPython.core.display.Math object>"
      ]
     },
     "metadata": {},
     "output_type": "display_data"
    },
    {
     "name": "stdout",
     "output_type": "stream",
     "text": [
      "Kiterjesztés\n"
     ]
    },
    {
     "data": {
      "text/latex": [
       "$\\displaystyle (q, 1, \\{S_1 \\mid T_1\\}, \\{a \\mid + \\mid S\\})$"
      ],
      "text/plain": [
       "<IPython.core.display.Math object>"
      ]
     },
     "metadata": {},
     "output_type": "display_data"
    },
    {
     "name": "stdout",
     "output_type": "stream",
     "text": [
      "Sikertelen input illesztés\n"
     ]
    },
    {
     "data": {
      "text/latex": [
       "$\\displaystyle (b, 1, \\{S_1 \\mid T_1\\}, \\{a \\mid + \\mid S\\})$"
      ],
      "text/plain": [
       "<IPython.core.display.Math object>"
      ]
     },
     "metadata": {},
     "output_type": "display_data"
    },
    {
     "name": "stdout",
     "output_type": "stream",
     "text": [
      "Backtrack a kiterjesztésben I.\n"
     ]
    },
    {
     "data": {
      "text/latex": [
       "$\\displaystyle (q, 1, \\{S_1 \\mid T_2\\}, \\{b \\mid + \\mid S\\})$"
      ],
      "text/plain": [
       "<IPython.core.display.Math object>"
      ]
     },
     "metadata": {},
     "output_type": "display_data"
    },
    {
     "name": "stdout",
     "output_type": "stream",
     "text": [
      "Sikeres input ellenörzés\n"
     ]
    },
    {
     "data": {
      "text/latex": [
       "$\\displaystyle (q, 2, \\{S_1 \\mid T_2 \\mid b\\}, \\{+ \\mid S\\})$"
      ],
      "text/plain": [
       "<IPython.core.display.Math object>"
      ]
     },
     "metadata": {},
     "output_type": "display_data"
    },
    {
     "name": "stdout",
     "output_type": "stream",
     "text": [
      "Sikeres input ellenörzés\n"
     ]
    },
    {
     "data": {
      "text/latex": [
       "$\\displaystyle (q, 3, \\{S_1 \\mid T_2 \\mid b \\mid +\\}, \\{S\\})$"
      ],
      "text/plain": [
       "<IPython.core.display.Math object>"
      ]
     },
     "metadata": {},
     "output_type": "display_data"
    },
    {
     "name": "stdout",
     "output_type": "stream",
     "text": [
      "Kiterjesztés\n"
     ]
    },
    {
     "data": {
      "text/latex": [
       "$\\displaystyle (q, 3, \\{S_1 \\mid T_2 \\mid b \\mid + \\mid S_1\\}, \\{T \\mid + \\mid S\\})$"
      ],
      "text/plain": [
       "<IPython.core.display.Math object>"
      ]
     },
     "metadata": {},
     "output_type": "display_data"
    },
    {
     "name": "stdout",
     "output_type": "stream",
     "text": [
      "Kiterjesztés\n"
     ]
    },
    {
     "data": {
      "text/latex": [
       "$\\displaystyle (q, 3, \\{S_1 \\mid T_2 \\mid b \\mid + \\mid S_1 \\mid T_1\\}, \\{a \\mid + \\mid S\\})$"
      ],
      "text/plain": [
       "<IPython.core.display.Math object>"
      ]
     },
     "metadata": {},
     "output_type": "display_data"
    },
    {
     "name": "stdout",
     "output_type": "stream",
     "text": [
      "Sikeres input ellenörzés\n"
     ]
    },
    {
     "data": {
      "text/latex": [
       "$\\displaystyle (q, 4, \\{S_1 \\mid T_2 \\mid b \\mid + \\mid S_1 \\mid T_1 \\mid a\\}, \\{+ \\mid S\\})$"
      ],
      "text/plain": [
       "<IPython.core.display.Math object>"
      ]
     },
     "metadata": {},
     "output_type": "display_data"
    },
    {
     "name": "stdout",
     "output_type": "stream",
     "text": [
      "Sikertelen input illesztés\n"
     ]
    },
    {
     "data": {
      "text/latex": [
       "$\\displaystyle (b, 4, \\{S_1 \\mid T_2 \\mid b \\mid + \\mid S_1 \\mid T_1 \\mid a\\}, \\{+ \\mid S\\})$"
      ],
      "text/plain": [
       "<IPython.core.display.Math object>"
      ]
     },
     "metadata": {},
     "output_type": "display_data"
    },
    {
     "name": "stdout",
     "output_type": "stream",
     "text": [
      "Backtrack az inputban\n"
     ]
    },
    {
     "data": {
      "text/latex": [
       "$\\displaystyle (b, 3, \\{S_1 \\mid T_2 \\mid b \\mid + \\mid S_1 \\mid T_1\\}, \\{a \\mid + \\mid S\\})$"
      ],
      "text/plain": [
       "<IPython.core.display.Math object>"
      ]
     },
     "metadata": {},
     "output_type": "display_data"
    },
    {
     "name": "stdout",
     "output_type": "stream",
     "text": [
      "Backtrack a kiterjesztésben I.\n"
     ]
    },
    {
     "data": {
      "text/latex": [
       "$\\displaystyle (q, 3, \\{S_1 \\mid T_2 \\mid b \\mid + \\mid S_1 \\mid T_2\\}, \\{b \\mid + \\mid S\\})$"
      ],
      "text/plain": [
       "<IPython.core.display.Math object>"
      ]
     },
     "metadata": {},
     "output_type": "display_data"
    },
    {
     "name": "stdout",
     "output_type": "stream",
     "text": [
      "Sikertelen input illesztés\n"
     ]
    },
    {
     "data": {
      "text/latex": [
       "$\\displaystyle (b, 3, \\{S_1 \\mid T_2 \\mid b \\mid + \\mid S_1 \\mid T_2\\}, \\{b \\mid + \\mid S\\})$"
      ],
      "text/plain": [
       "<IPython.core.display.Math object>"
      ]
     },
     "metadata": {},
     "output_type": "display_data"
    },
    {
     "name": "stdout",
     "output_type": "stream",
     "text": [
      "Backtrack a kiterjesztésben III.\n"
     ]
    },
    {
     "data": {
      "text/latex": [
       "$\\displaystyle (b, 3, \\{S_1 \\mid T_2 \\mid b \\mid + \\mid S_1\\}, \\{T \\mid + \\mid S\\})$"
      ],
      "text/plain": [
       "<IPython.core.display.Math object>"
      ]
     },
     "metadata": {},
     "output_type": "display_data"
    },
    {
     "name": "stdout",
     "output_type": "stream",
     "text": [
      "Backtrack a kiterjesztésben I.\n"
     ]
    },
    {
     "data": {
      "text/latex": [
       "$\\displaystyle (q, 3, \\{S_1 \\mid T_2 \\mid b \\mid + \\mid S_2\\}, \\{T\\})$"
      ],
      "text/plain": [
       "<IPython.core.display.Math object>"
      ]
     },
     "metadata": {},
     "output_type": "display_data"
    },
    {
     "name": "stdout",
     "output_type": "stream",
     "text": [
      "Kiterjesztés\n"
     ]
    },
    {
     "data": {
      "text/latex": [
       "$\\displaystyle (q, 3, \\{S_1 \\mid T_2 \\mid b \\mid + \\mid S_2 \\mid T_1\\}, \\{a\\})$"
      ],
      "text/plain": [
       "<IPython.core.display.Math object>"
      ]
     },
     "metadata": {},
     "output_type": "display_data"
    },
    {
     "name": "stdout",
     "output_type": "stream",
     "text": [
      "Sikeres input ellenörzés\n"
     ]
    },
    {
     "data": {
      "text/latex": [
       "$\\displaystyle (q, 4, \\{S_1 \\mid T_2 \\mid b \\mid + \\mid S_2 \\mid T_1 \\mid a\\}, \\{\\lambda\\})$"
      ],
      "text/plain": [
       "<IPython.core.display.Math object>"
      ]
     },
     "metadata": {},
     "output_type": "display_data"
    },
    {
     "name": "stdout",
     "output_type": "stream",
     "text": [
      "Sikeres elemzés!\n"
     ]
    },
    {
     "data": {
      "text/latex": [
       "$\\displaystyle (t, 4, \\{S_1 \\mid T_2 \\mid b \\mid + \\mid S_2 \\mid T_1 \\mid a\\}, \\{\\lambda\\})$"
      ],
      "text/plain": [
       "<IPython.core.display.Math object>"
      ]
     },
     "metadata": {},
     "output_type": "display_data"
    }
   ],
   "source": [
    "LOGGING_ENABLED = True\n",
    "deriveable, steps = G.is_deriveable(w)"
   ]
  },
  {
   "cell_type": "code",
   "execution_count": null,
   "metadata": {},
   "outputs": [],
   "source": []
  }
 ],
 "metadata": {
  "kernelspec": {
   "display_name": "Python 3",
   "language": "python",
   "name": "python3"
  },
  "language_info": {
   "codemirror_mode": {
    "name": "ipython",
    "version": 3
   },
   "file_extension": ".py",
   "mimetype": "text/x-python",
   "name": "python",
   "nbconvert_exporter": "python",
   "pygments_lexer": "ipython3",
   "version": "3.7.6"
  }
 },
 "nbformat": 4,
 "nbformat_minor": 4
}
